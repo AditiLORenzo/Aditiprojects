{
  "nbformat": 4,
  "nbformat_minor": 0,
  "metadata": {
    "colab": {
      "private_outputs": true,
      "provenance": [],
      "authorship_tag": "ABX9TyOyA5YOgQt0oVALeOSAvR/i",
      "include_colab_link": true
    },
    "kernelspec": {
      "name": "python3",
      "display_name": "Python 3"
    },
    "language_info": {
      "name": "python"
    }
  },
  "cells": [
    {
      "cell_type": "markdown",
      "metadata": {
        "id": "view-in-github",
        "colab_type": "text"
      },
      "source": [
        "<a href=\"https://colab.research.google.com/github/AditiLORenzo/Aditiprojects/blob/main/crops_clustering.ipynb\" target=\"_parent\"><img src=\"https://colab.research.google.com/assets/colab-badge.svg\" alt=\"Open In Colab\"/></a>"
      ]
    },
    {
      "cell_type": "code",
      "execution_count": null,
      "metadata": {
        "id": "Iex1w6W8mQ3H"
      },
      "outputs": [],
      "source": [
        "import numpy as np\n",
        "import pandas as pd\n",
        "import matplotlib.pyplot as plt\n",
        "import seaborn as sns\n",
        "plt.style.use('fivethirtyeight')\n",
        "import ipywidgets\n",
        "from ipywidgets import interact"
      ]
    },
    {
      "cell_type": "markdown",
      "source": [
        "##Reading the Data Set"
      ],
      "metadata": {
        "id": "boGNuyi3nMRG"
      }
    },
    {
      "cell_type": "code",
      "source": [
        "data=pd.read_csv('/content/data (6).csv')"
      ],
      "metadata": {
        "id": "H6ymiz1-nIel"
      },
      "execution_count": null,
      "outputs": []
    },
    {
      "cell_type": "code",
      "source": [
        "data.head()"
      ],
      "metadata": {
        "id": "G1l6hp6_ntz3"
      },
      "execution_count": null,
      "outputs": []
    },
    {
      "cell_type": "code",
      "source": [
        "data.isnull().sum()"
      ],
      "metadata": {
        "id": "Z2SbTBJYn2mp"
      },
      "execution_count": null,
      "outputs": []
    },
    {
      "cell_type": "code",
      "source": [
        "data['label'].value_counts()"
      ],
      "metadata": {
        "id": "Xc-wRDu1oBvT"
      },
      "execution_count": null,
      "outputs": []
    },
    {
      "cell_type": "markdown",
      "source": [
        "Descriptive Statistics"
      ],
      "metadata": {
        "id": "GSU6tTHhofPI"
      }
    },
    {
      "cell_type": "code",
      "source": [
        "print(\"Average Ratio of nitrogen in soil:{0:.2f}\".format(data['N'].mean()))\n",
        "print(\"Average Ratio of phosphorous in soil:{0:.2f}\".format(data['P'].mean()))\n",
        "print(\"Average Ratio of potassium in soil:{0:.2f}\".format(data['K'].mean()))\n",
        "print(\"Average Ratio of temprature in soil:{0:.2f}\".format(data['temperature'].mean()))\n",
        "print(\"Average Ratio of humidity in soil:{0:.2f}\".format(data['humidity'].mean()))\n",
        "print(\"Average Ratio of ph in soil:{0:.2f}\".format(data['ph'].mean()))\n",
        "print(\"Average Ratio of rainfall in soil:{0:.2f}\".format(data['rainfall'].mean()))"
      ],
      "metadata": {
        "id": "KV87Bglfojjr"
      },
      "execution_count": null,
      "outputs": []
    },
    {
      "cell_type": "code",
      "source": [
        "data['label'].value_counts"
      ],
      "metadata": {
        "id": "C_5dTG5p4I6j"
      },
      "execution_count": null,
      "outputs": []
    },
    {
      "cell_type": "code",
      "source": [
        "data[data['N']>120]"
      ],
      "metadata": {
        "id": "2gmTD97j6K0F"
      },
      "execution_count": null,
      "outputs": []
    },
    {
      "cell_type": "code",
      "source": [
        "@interact\n",
        "def summary(crops=list(data['label'].value_counts().index)):\n",
        "    x=data[data['label']==crops]\n",
        "    print(\"........\")\n",
        "    print(\"Statistic of nitrogen\")\n",
        "    print(\"Minimum nitrogen required:\",x['N'].min())\n",
        "    print(\"Average nitrogen required:\",x['N'].mean())\n",
        "    print(\"Average nitrogen required:\",x['N'].max())\n",
        "    print(\"..........................\")\n",
        "    print(\"Statistic of Phosphorous\")\n",
        "    print(\"Minimum Phosphorous required:\",x['P'].min())\n",
        "    print(\"Average Phosphorous required:\",x['P'].mean())\n",
        "    print(\"Max Phosphorous required:\",x['P'].max())\n",
        "    print(\".............................\")\n",
        "    print(\"statistic of potassium\")\n",
        "    print(\"Minimum potassium required:\",x['K'].min())\n",
        "    print(\"Max potassium required:\",x['K'].mean())\n",
        "    print(\"Max potassium required:\",x['K'].max())\n",
        "    print(\".............................\")\n",
        "    print(\"statistic of temprature\")\n",
        "    print(\"Minimum potassium required:\",x['temperature'].min())\n",
        "    print(\"Max potassium required:\",x['temperature'].mean())\n",
        "    print(\"Max potassium required:\",x['temperature'].max())\n",
        "    print(\".............................\")\n",
        "    print(\"statistic of temprature\")\n",
        "    print(\"Minimum potassium required:{0:.2f}\".format(x['temperature'].min()))\n",
        "    print(\"Max potassium required:{0:.2f}\".format(x['temperature'].mean()))\n",
        "    print(\"Max potassium required:{0:.2f}\".format(x['temperature'].max()))\n",
        "    print(\".............................\")\n",
        "    print(\"statistic of Humidity\")\n",
        "    print(\"Minimum potassium required:{0:.2f}\".format(x['humidity'].min()))\n",
        "    print(\"Max potassium required:{0:.2f}\".format(x['humidity'].mean()))\n",
        "    print(\"Max potassium required:{0:.2f}\".format(x['humidity'].max()))\n",
        "    print(\".............................\")\n",
        "    print(\"statistic of PH\")\n",
        "    print(\"Minimum potassium required:{0:.2f}\".format(x['ph'].min()))\n",
        "    print(\"Max potassium required:{0:.2f}\".format(x['ph'].mean()))\n",
        "    print(\"Max potassium required:{0:.2f}\".format(x['ph'].max()))\n",
        "    print(\"..............................\")\n",
        "    print(\"Statistics for Rainfall\")\n",
        "    print(\"Minimum Rainfall required : {0:.2f}\".format(x['rainfall'].min()))\n",
        "    print(\"Average Rainfall required : {0:.2f}\".format(x['rainfall'].mean()))\n",
        "    print(\"Maximum Rainfall required : {0:.2f}\".format(x['rainfall'].max()))\n",
        "\n",
        "\n"
      ],
      "metadata": {
        "id": "lNhTLDInqRX9"
      },
      "execution_count": null,
      "outputs": []
    },
    {
      "cell_type": "code",
      "source": [
        "crops=list(data['label'].value_counts().index)\n",
        "#x=data[data['label']==crops]"
      ],
      "metadata": {
        "id": "zGhS8Wl7fg6b"
      },
      "execution_count": null,
      "outputs": []
    },
    {
      "cell_type": "code",
      "source": [
        "crops"
      ],
      "metadata": {
        "id": "9ByVZeCqfmra"
      },
      "execution_count": null,
      "outputs": []
    },
    {
      "cell_type": "code",
      "source": [
        "#x=data[data['label']==crops]"
      ],
      "metadata": {
        "id": "8cgquaFIfyhP"
      },
      "execution_count": null,
      "outputs": []
    },
    {
      "cell_type": "code",
      "source": [
        "#Let's compare the Average Requiremnet for each crops with average conditions\n",
        "@interact\n",
        "def compare(conditions=['N','P','K','temperature','ph','humidity','rainfall']):\n",
        "    print(\"Average Value for\",conditions,\"is {0:.2f}\".format(data[conditions].mean()))\n",
        "    print(\"...................................................................\")\n",
        "    print(\"Rice:{0:.2f}\".format(data[(data['label']=='rice')][conditions].mean()))\n",
        "    print(\"Black Grams : {0:.2f}\".format(data[(data['label']=='blackgram')][conditions].mean()))\n",
        "    print(\"Banana :{0:.2f}\".format(data[(data['label']=='banana')][conditions].mean()))\n",
        "    print(\"Jute: {0:.2f}\".format(data[(data['label']=='jute')][conditions].mean()))\n",
        "    print(\"Coconut:{0:.2f}\".format(data[(data['label']=='coconut')][conditions].mean()))\n",
        "    print(\"Apple:{0:.2f}\".format(data[(data['label']=='apple')][conditions].mean()))\n",
        "    print(\"Papaya:{0:.2f}\".format(data[(data['label']=='papaya')][conditions].mean()))\n",
        "    print(\"Muskmelon:{0:.2f}\".format(data[(data['label']=='muskmelon')][conditions].mean()))\n",
        "    print(\"Grapes : {0:.2f}\".format(data[(data['label'] == 'grapes')][conditions].mean()))\n",
        "    print(\"Watermelon : {0:.2f}\".format(data[data['label'] == 'watermelon'][conditions].mean()))\n",
        "    print(\"Kidney Beans: {0:.2f}\".format(data[(data['label'] == 'kidneybeans')][conditions].mean()))\n",
        "    print(\"Mung Beans : {0:.2f}\".format(data[data['label'] == 'mungbean'][conditions].mean()))\n",
        "    print(\"Oranges : {0:.2f}\".format(data[(data['label'] == 'orange')][conditions].mean()))\n",
        "    print(\"Chick Peas : {0:.2f}\".format(data[data['label'] == 'chickpea'][conditions].mean()))\n",
        "    print(\"Lentils : {0:.2f}\".format(data[(data['label'] == 'lentil')][conditions].mean()))\n",
        "    print(\"Cotton : {0:.2f}\".format(data[data['label'] == 'cotton'][conditions].mean()))\n",
        "    print(\"Maize : {0:.2f}\".format(data[(data['label'] == 'maize')][conditions].mean()))\n",
        "    print(\"Moth Beans : {0:.2f}\".format(data[data['label'] == 'mothbeans'][conditions].mean()))\n",
        "    print(\"Pigeon Peas : {0:.2f}\".format(data[(data['label'] == 'pigeonpeas')][conditions].mean()))\n",
        "    print(\"Mango : {0:.2f}\".format(data[data['label'] == 'mango'][conditions].mean()))\n",
        "    print(\"Pomegranate : {0:.2f}\".format(data[(data['label'] == 'pomegranate')][conditions].mean()))\n",
        "    print(\"Coffee : {0:.2f}\".format(data[data['label'] == 'coffee'][conditions].mean()))\n"
      ],
      "metadata": {
        "id": "zkixJ5i6tA1C"
      },
      "execution_count": null,
      "outputs": []
    },
    {
      "cell_type": "code",
      "source": [
        "#some interesting facts\n",
        "print(\"Some in teresting facts\")\n",
        "print(\".......................\")\n",
        "print(\"Crops which requires high ratio of nitrogen in soil:\",data[data['N']>120]['label'].unique())\n",
        "print(\"Crops which requires high phosphorous content in soil:\",data[data['P']>100]['label'].unique())\n",
        "print(\"Crop which requires very high rainfall:\",data[data['K']>200]['label'].unique())\n",
        "print(\"Crops which requires very Low Temperature :\", data[data['temperature'] < 10]['label'].unique())\n",
        "print(\"Crops which requires very High Temperature :\", data[data['temperature'] > 40]['label'].unique())\n",
        "print(\"Crops which requires very Low Humidity:\", data[data['humidity'] < 20]['label'].unique())\n",
        "print(\"Crops which requires very Low pH:\", data[data['ph'] < 4]['label'].unique())\n",
        "print(\"Crops which requires very High pH:\", data[data['ph'] > 9]['label'].unique())\n"
      ],
      "metadata": {
        "id": "WqUzC7sm3tbk"
      },
      "execution_count": null,
      "outputs": []
    },
    {
      "cell_type": "markdown",
      "source": [
        "##Clustering similar crops"
      ],
      "metadata": {
        "id": "jan44xTl-iJV"
      }
    },
    {
      "cell_type": "code",
      "source": [
        "import warnings\n",
        "warnings.filterwarnings('ignore')\n",
        "x=data.loc[:,['N','P','K','temperature','ph','humidity','rainfall']].values\n"
      ],
      "metadata": {
        "id": "mXr0FVCgw_MD"
      },
      "execution_count": null,
      "outputs": []
    },
    {
      "cell_type": "code",
      "source": [
        "print(x.shape)"
      ],
      "metadata": {
        "id": "OpW0KneGADOU"
      },
      "execution_count": null,
      "outputs": []
    },
    {
      "cell_type": "code",
      "source": [
        "from sklearn.cluster import KMeans\n",
        "plt.rcParams['figure.figsize']=(10,5)\n",
        "\n",
        "wcss=[]\n",
        "for i in range(1,11):\n",
        "    km=KMeans(n_clusters=i,init='k-means++',max_iter=300,n_init=10,random_state=0)\n",
        "    km.fit(x)\n",
        "    wcss.append(km.inertia_)\n",
        "\n",
        "plt.plot(range(1,11),wcss)\n",
        "plt.title(\"elbow plot\")\n",
        "plt.xlabel('No.of clusters')\n",
        "plt.ylabel('wcss')\n",
        "plt.show()"
      ],
      "metadata": {
        "id": "TuyTJ-DTAOEx"
      },
      "execution_count": null,
      "outputs": []
    },
    {
      "cell_type": "code",
      "source": [
        "km=KMeans(n_clusters=4,init='k-means++',max_iter=300,n_init=10,random_state=0)\n",
        "y_means=km.fit_predict(x)"
      ],
      "metadata": {
        "id": "TYpd-A8Q6Cea"
      },
      "execution_count": null,
      "outputs": []
    },
    {
      "cell_type": "code",
      "source": [],
      "metadata": {
        "id": "bI3Ljbe5Ji-3"
      },
      "execution_count": null,
      "outputs": []
    },
    {
      "cell_type": "code",
      "source": [
        "#lets find out the results\n",
        "a=data['label']\n",
        "y_mean=pd.DataFrame(y_means)\n",
        "z=pd.concat([y_mean,a],axis=1)"
      ],
      "metadata": {
        "id": "m8-22vtBEvPk"
      },
      "execution_count": null,
      "outputs": []
    },
    {
      "cell_type": "code",
      "source": [
        "z=z.rename(columns={0:'cluster'})"
      ],
      "metadata": {
        "id": "8saWqLLj8QbQ"
      },
      "execution_count": null,
      "outputs": []
    },
    {
      "cell_type": "code",
      "source": [
        "z"
      ],
      "metadata": {
        "id": "BsTnW3oe9mGa"
      },
      "execution_count": null,
      "outputs": []
    },
    {
      "cell_type": "code",
      "source": [
        "print(\"lets print the cluster\")\n",
        "print(\"cluster of group 1st group\",z[z['cluster']==0]['label'].unique())\n",
        "print(\"cluster of group 2nd\",z[z['cluster']==1]['label'].unique())\n",
        "print(\"cluster of group 3rd\",z[z['cluster']==2]['label'].unique())\n",
        "print(\"cluster of group 4th\",z[z['cluster']==3]['label'].unique())"
      ],
      "metadata": {
        "id": "k4ugnM-c9pex"
      },
      "execution_count": null,
      "outputs": []
    },
    {
      "cell_type": "code",
      "source": [
        "count=z[z['cluster']==0]['label'].value_counts()"
      ],
      "metadata": {
        "id": "TR1OCz6V_1fL"
      },
      "execution_count": null,
      "outputs": []
    },
    {
      "cell_type": "code",
      "source": [
        "count"
      ],
      "metadata": {
        "id": "a9HREfFTAGHT"
      },
      "execution_count": null,
      "outputs": []
    },
    {
      "cell_type": "code",
      "source": [
        "z.loc[z['label'].isin(count.index[count>=50])]"
      ],
      "metadata": {
        "id": "YVTnTgrrAYJU"
      },
      "execution_count": null,
      "outputs": []
    },
    {
      "cell_type": "code",
      "source": [
        "#hard clustering for group 2\n",
        "count=z[z['cluster']==1]['label'].value_counts()\n",
        "print(\"the cluster for group 2\",z.loc[z['label'].isin(count.index[count>=50])])\n",
        "#hard clustering for group 3\n",
        "count=z[z['cluster']==2]['label'].value_counts()\n",
        "print(\"hard clustering for group 3\",z.loc[z['label'].isin(count.index[count>=50])])\n",
        "#hard clustering for group 4\n",
        "count=z[z['cluster']==3]['label'].value_counts()\n",
        "print(\"hard clustering for group 4\",z.loc[z['label'].isin(count.index[count>=50])])"
      ],
      "metadata": {
        "id": "UqC3pwBgCQjU"
      },
      "execution_count": null,
      "outputs": []
    },
    {
      "cell_type": "markdown",
      "source": [
        "##Predictive modelling"
      ],
      "metadata": {
        "id": "zREZTz9FFRPb"
      }
    },
    {
      "cell_type": "code",
      "source": [
        "y=data['label']\n",
        "x=data.drop(['label'],axis=1)"
      ],
      "metadata": {
        "id": "zfZn_WnrFH4z"
      },
      "execution_count": null,
      "outputs": []
    },
    {
      "cell_type": "code",
      "source": [
        "from sklearn.model_selection import train_test_split\n",
        "x_train,x_test,y_train,y_test=train_test_split(x,y,test_size=0.2,random_state=0)"
      ],
      "metadata": {
        "id": "uKdy0BKKExlB"
      },
      "execution_count": null,
      "outputs": []
    },
    {
      "cell_type": "code",
      "source": [
        "from sklearn.linear_model import LogisticRegression\n",
        "model=LogisticRegression()\n",
        "model.fit(x_train,y_train)\n"
      ],
      "metadata": {
        "id": "UuKalymKG6fO"
      },
      "execution_count": null,
      "outputs": []
    },
    {
      "cell_type": "code",
      "source": [
        "y_predict=model.predict(x_test)"
      ],
      "metadata": {
        "id": "nYWzYVbvIBnt"
      },
      "execution_count": null,
      "outputs": []
    },
    {
      "cell_type": "markdown",
      "source": [
        "##Confusion matrix"
      ],
      "metadata": {
        "id": "vYkrYgfeJk8i"
      }
    },
    {
      "cell_type": "code",
      "source": [
        "from sklearn.metrics import classification_report,confusion_matrix\n",
        "#lets print the confusion metrics\n",
        "plt.rcParams['figure.figsize']=(10,5)\n",
        "cm=confusion_matrix(y_test,y_predict)\n",
        "sns.heatmap(cm,annot=True,cmap='Wistia')\n",
        "plt.title('Confusion matrix for logistic regression',fontsize=15)\n",
        "plt.show()\n",
        "cr=classification_report(y_test,y_predict)\n",
        "print(cr)999999999999999999999999999999999999999999999999999999999999999999999999999999999999999999999"
      ],
      "metadata": {
        "id": "P8GJ7nm8Jne2"
      },
      "execution_count": null,
      "outputs": []
    }
  ]
}