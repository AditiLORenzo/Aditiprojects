{
  "nbformat": 4,
  "nbformat_minor": 0,
  "metadata": {
    "colab": {
      "private_outputs": true,
      "provenance": [],
      "authorship_tag": "ABX9TyMsc4bGXos/cDkKAp+Bxk8h",
      "include_colab_link": true
    },
    "kernelspec": {
      "name": "python3",
      "display_name": "Python 3"
    },
    "language_info": {
      "name": "python"
    }
  },
  "cells": [
    {
      "cell_type": "markdown",
      "metadata": {
        "id": "view-in-github",
        "colab_type": "text"
      },
      "source": [
        "<a href=\"https://colab.research.google.com/github/AditiLORenzo/Aditiprojects/blob/main/Netflix_recommendation_engine_using_SVD.ipynb\" target=\"_parent\"><img src=\"https://colab.research.google.com/assets/colab-badge.svg\" alt=\"Open In Colab\"/></a>"
      ]
    },
    {
      "cell_type": "markdown",
      "source": [
        "loading the library"
      ],
      "metadata": {
        "id": "sfxlnirfvznd"
      }
    },
    {
      "cell_type": "code",
      "source": [
        "import pandas as pd\n",
        "import numpy as np\n",
        "import matplotlib.pyplot as plt\n",
        "import re\n",
        "from scipy.sparse import csr_matrix\n",
        "import seaborn as sns\n",
        "sns.set_style(\"darkgrid\")"
      ],
      "metadata": {
        "id": "-ICtadhOv3oj"
      },
      "execution_count": null,
      "outputs": []
    },
    {
      "cell_type": "code",
      "source": [
        "!pip install surprise"
      ],
      "metadata": {
        "id": "7JZkB8wUxxK1"
      },
      "execution_count": null,
      "outputs": []
    },
    {
      "cell_type": "code",
      "source": [
        "from surprise import Reader, Dataset, SVD\n",
        "from surprise.model_selection import cross_validate"
      ],
      "metadata": {
        "id": "3z8CoVg3xupU"
      },
      "execution_count": null,
      "outputs": []
    },
    {
      "cell_type": "code",
      "source": [
        "df1 = pd.read_csv('/content/combined_data_1.txt', header = None, names = ['Cust_Id', 'Rating'], usecols = [0,1])\n"
      ],
      "metadata": {
        "id": "ppen_pydxEJq"
      },
      "execution_count": null,
      "outputs": []
    },
    {
      "cell_type": "code",
      "source": [
        "df1"
      ],
      "metadata": {
        "id": "kCVHDHLjEeFK"
      },
      "execution_count": null,
      "outputs": []
    },
    {
      "cell_type": "code",
      "source": [
        "df1['Rating']=df1['Rating'].astype(float)"
      ],
      "metadata": {
        "id": "nCw7nGeHEg01"
      },
      "execution_count": null,
      "outputs": []
    },
    {
      "cell_type": "code",
      "source": [
        "print(f\"Data shape {df1.shape}\")\n",
        "print(\"-Dataset Example-\")\n",
        "print(df1.iloc[::50000,:])"
      ],
      "metadata": {
        "id": "a08QYdieE8Ju"
      },
      "execution_count": null,
      "outputs": []
    },
    {
      "cell_type": "code",
      "source": [
        "df1.index=np.arange(0,len(df1))\n"
      ],
      "metadata": {
        "id": "luk8_buUFrCp"
      },
      "execution_count": null,
      "outputs": []
    },
    {
      "cell_type": "code",
      "source": [
        "df1"
      ],
      "metadata": {
        "id": "vtt2gsLbGqQq"
      },
      "execution_count": null,
      "outputs": []
    },
    {
      "cell_type": "code",
      "source": [
        "p=df1.groupby('Rating')['Rating'].agg(['count'])"
      ],
      "metadata": {
        "id": "m9DzaDzlHA8c"
      },
      "execution_count": null,
      "outputs": []
    },
    {
      "cell_type": "code",
      "source": [
        "p"
      ],
      "metadata": {
        "id": "S_L7p9qBHU1A"
      },
      "execution_count": null,
      "outputs": []
    },
    {
      "cell_type": "code",
      "source": [
        "p.iloc[2][0]"
      ],
      "metadata": {
        "id": "ycZ7x3DFD53-"
      },
      "execution_count": null,
      "outputs": []
    },
    {
      "cell_type": "code",
      "source": [
        "#movie count that were not rated\n",
        "movie_count=df1.isnull().sum()[1]"
      ],
      "metadata": {
        "id": "DBDvpybpHvef"
      },
      "execution_count": null,
      "outputs": []
    },
    {
      "cell_type": "code",
      "source": [
        "df1.isnull().sum()"
      ],
      "metadata": {
        "id": "v2wmWIZhJZxC"
      },
      "execution_count": null,
      "outputs": []
    },
    {
      "cell_type": "code",
      "source": [
        "#customer count\n",
        "customer_count=df1['Cust_Id'].nunique()-movie_count"
      ],
      "metadata": {
        "id": "YooZxGvsIFe2"
      },
      "execution_count": null,
      "outputs": []
    },
    {
      "cell_type": "code",
      "source": [
        "#rating count\n",
        "rating_count=df1['Cust_Id'].count()-movie_count"
      ],
      "metadata": {
        "id": "X-5hGwrtIFli"
      },
      "execution_count": null,
      "outputs": []
    },
    {
      "cell_type": "code",
      "source": [
        "df1['Rating'].count()-movie_count"
      ],
      "metadata": {
        "id": "O9zCVZm6KHkI"
      },
      "execution_count": null,
      "outputs": []
    },
    {
      "cell_type": "code",
      "source": [
        "rating_count"
      ],
      "metadata": {
        "id": "708p3f2kKu2m"
      },
      "execution_count": null,
      "outputs": []
    },
    {
      "cell_type": "markdown",
      "source": [
        "##Data viewing"
      ],
      "metadata": {
        "id": "-ybuqpo7Jp3c"
      }
    },
    {
      "cell_type": "code",
      "source": [
        "ax=p.plot(kind='barh',legend=False,figsize=(15,10))\n",
        "plt.title(f'Total pool:Movies{movie_count},Customer_count{customer_count},Ratings_given{rating_count}')\n",
        "plt.axis('off')\n",
        "for i in range(1,6):\n",
        "    ax.text(p.iloc[i-1][0]/4, i-1, 'Rating {}: {:.0f}%'.format(i,p.iloc[i-1][0]*100 / p.sum()[0]), color = 'white', weight = 'bold')\n"
      ],
      "metadata": {
        "id": "8ydRyP54K91t"
      },
      "execution_count": null,
      "outputs": []
    },
    {
      "cell_type": "markdown",
      "source": [
        "##Data cleaning"
      ],
      "metadata": {
        "id": "D9wrW_lfJ0EA"
      }
    },
    {
      "cell_type": "code",
      "source": [
        "df_nan=pd.DataFrame(pd.isnull(df1.Rating))"
      ],
      "metadata": {
        "id": "dd7QS0QYJ3ly"
      },
      "execution_count": null,
      "outputs": []
    },
    {
      "cell_type": "code",
      "source": [
        "df_nan"
      ],
      "metadata": {
        "id": "eERjho_FmVR4"
      },
      "execution_count": null,
      "outputs": []
    },
    {
      "cell_type": "code",
      "source": [
        "df_nan=df_nan[df_nan['Rating']==True]\n",
        "df_nan"
      ],
      "metadata": {
        "id": "bDqKTsk9mgIF"
      },
      "execution_count": null,
      "outputs": []
    },
    {
      "cell_type": "code",
      "source": [
        "df_nan=df_nan.reset_index()"
      ],
      "metadata": {
        "id": "EP6iLlIFnKpy"
      },
      "execution_count": null,
      "outputs": []
    },
    {
      "cell_type": "code",
      "source": [
        "df_nan"
      ],
      "metadata": {
        "id": "fjRXsWB4nVIZ"
      },
      "execution_count": null,
      "outputs": []
    },
    {
      "cell_type": "code",
      "source": [
        "df=df1.reset_index()\n",
        "df"
      ],
      "metadata": {
        "id": "--jECHrsnfY5"
      },
      "execution_count": null,
      "outputs": []
    },
    {
      "cell_type": "code",
      "source": [
        "movie_np=[]\n",
        "mn_id=1\n",
        "\n",
        "for i,j in zip(df_nan['index'][1:],df_nan['index'][:-1]):\n",
        "    # numpy approach\n",
        "    temp = np.full((1,i-j-1), mn_id)\n",
        "    movie_np = np.append(movie_np, temp)\n",
        "    mn_id += 1\n",
        "\n",
        "last_record=np.full((1,len(df1)-df_nan.iloc[-1,0]),mn_id)\n",
        "movie_np=np.append(movie_np,last_record)"
      ],
      "metadata": {
        "id": "69x2RkXwqEf2"
      },
      "execution_count": null,
      "outputs": []
    },
    {
      "cell_type": "code",
      "source": [
        "print(f'movie_numpy{movie_np}')\n",
        "print(f'length{len(movie_np)}')"
      ],
      "metadata": {
        "id": "InBxmSDauXq9"
      },
      "execution_count": null,
      "outputs": []
    },
    {
      "cell_type": "code",
      "source": [
        "movie_np"
      ],
      "metadata": {
        "id": "VtkzcHQO2dNG"
      },
      "execution_count": null,
      "outputs": []
    },
    {
      "cell_type": "code",
      "source": [
        "#removing null values from rating column\n",
        "df1=df1[pd.notnull(df['Rating'])]"
      ],
      "metadata": {
        "id": "fmMoq-dwvjWD"
      },
      "execution_count": null,
      "outputs": []
    },
    {
      "cell_type": "code",
      "source": [
        "#df = df[pd.notnull(df['Rating'])]\n",
        "#df1['Movie_Id'] = movie_np.astype(int)\n",
        "Cust_Id=df1['Cust_Id']\n",
        "df1['Movie_Id'] = pd.Series(movie_np).astype(int)\n",
        "#df1['Cust_Id'] = pd.Series(Cust_Id).astype(int)"
      ],
      "metadata": {
        "id": "TXYSLOVO1A4e"
      },
      "execution_count": null,
      "outputs": []
    },
    {
      "cell_type": "code",
      "source": [
        "df1"
      ],
      "metadata": {
        "id": "edZ8TDbI7hqD"
      },
      "execution_count": null,
      "outputs": []
    },
    {
      "cell_type": "code",
      "source": [
        "df1['Cust_Id']=df1['Cust_Id'].astype(int)"
      ],
      "metadata": {
        "id": "s_PGbxF60irR"
      },
      "execution_count": null,
      "outputs": []
    },
    {
      "cell_type": "code",
      "source": [
        "df1"
      ],
      "metadata": {
        "id": "UxzUdkJl0fBZ"
      },
      "execution_count": null,
      "outputs": []
    },
    {
      "cell_type": "code",
      "source": [
        "print(f'-dataset-')\n",
        "print(f'our datase{df1.iloc[::5,:]}')"
      ],
      "metadata": {
        "id": "uhivnAyR8NJ2"
      },
      "execution_count": null,
      "outputs": []
    },
    {
      "cell_type": "code",
      "source": [
        "#for i,j in zip(df_nan['index'][1:],df_nan['index'][:-1]):\n",
        "    # numpy approach\n",
        " #   print(i-j-1)\n"
      ],
      "metadata": {
        "id": "IKaUCybxq22r"
      },
      "execution_count": null,
      "outputs": []
    },
    {
      "cell_type": "code",
      "source": [
        "#df_nan[''][1]-df_nan['index'][0]"
      ],
      "metadata": {
        "id": "SMJt3pfYrX_J"
      },
      "execution_count": null,
      "outputs": []
    },
    {
      "cell_type": "code",
      "source": [
        "df_nan.iloc[-1,0]"
      ],
      "metadata": {
        "id": "V8TFn8Y6nq20"
      },
      "execution_count": null,
      "outputs": []
    },
    {
      "cell_type": "code",
      "source": [
        "for i in range(1,6):\n",
        "    print(p.iloc[i-1][0]/4,i-1)"
      ],
      "metadata": {
        "id": "aLk1vTcJGctl"
      },
      "execution_count": null,
      "outputs": []
    },
    {
      "cell_type": "markdown",
      "source": [
        "##Data_slicing"
      ],
      "metadata": {
        "id": "4-QWZdmD92jA"
      }
    },
    {
      "cell_type": "code",
      "source": [
        "#df1.iloc[80000]"
      ],
      "metadata": {
        "id": "o69RVudv-afN"
      },
      "execution_count": null,
      "outputs": []
    },
    {
      "cell_type": "code",
      "source": [
        "df1"
      ],
      "metadata": {
        "id": "O2OViVu3ATl9"
      },
      "execution_count": null,
      "outputs": []
    },
    {
      "cell_type": "code",
      "source": [
        "f = ['count','mean']\n",
        "\n",
        "df_movie_summary = df1.groupby('Movie_Id')['Rating'].agg(f)\n",
        "df_movie_summary.index = df_movie_summary.index.map(int)\n",
        "movie_benchmark = round(df_movie_summary['count'].quantile(0.7),0)\n",
        "drop_movie_list = df_movie_summary[df_movie_summary['count'] < movie_benchmark].index\n",
        "\n",
        "\n"
      ],
      "metadata": {
        "id": "SEMAoyem95iZ"
      },
      "execution_count": null,
      "outputs": []
    },
    {
      "cell_type": "code",
      "source": [
        "df_movie_summary['count']"
      ],
      "metadata": {
        "id": "4BM3PvaXOb41"
      },
      "execution_count": null,
      "outputs": []
    },
    {
      "cell_type": "code",
      "source": [
        "round(df_movie_summary['count'].quantile(0.7),0)#38.5% of all 55 numbers are lesser than 1307"
      ],
      "metadata": {
        "id": "F01bhDycONrW"
      },
      "execution_count": null,
      "outputs": []
    },
    {
      "cell_type": "code",
      "source": [
        "movie_benchmark"
      ],
      "metadata": {
        "id": "h0lSmq77BRFm"
      },
      "execution_count": null,
      "outputs": []
    },
    {
      "cell_type": "code",
      "source": [],
      "metadata": {
        "id": "u0QcGfvMUIn_"
      },
      "execution_count": null,
      "outputs": []
    },
    {
      "cell_type": "code",
      "source": [
        "#calculating customer summary\n",
        "f=['count','mean']\n",
        "df_cus_summary=df1.groupby('Cust_Id')['Rating'].agg(f)\n",
        "\n"
      ],
      "metadata": {
        "id": "DFGbdYt8TMZT"
      },
      "execution_count": null,
      "outputs": []
    },
    {
      "cell_type": "code",
      "source": [
        "df_cus_summary"
      ],
      "metadata": {
        "id": "VuBdM3b_UDvS"
      },
      "execution_count": null,
      "outputs": []
    },
    {
      "cell_type": "code",
      "source": [
        "df_cus_summary.index=df_cus_summary.index.map(int)"
      ],
      "metadata": {
        "id": "LX-LxR8qULlk"
      },
      "execution_count": null,
      "outputs": []
    },
    {
      "cell_type": "code",
      "source": [
        "df_cus_summary"
      ],
      "metadata": {
        "id": "9JmhybkIUUXG"
      },
      "execution_count": null,
      "outputs": []
    },
    {
      "cell_type": "code",
      "source": [
        "cus_bench_mark=round(df_cus_summary['count'].quantile(0.7),0)\n"
      ],
      "metadata": {
        "id": "JjOcF9EeUgvK"
      },
      "execution_count": null,
      "outputs": []
    },
    {
      "cell_type": "code",
      "source": [
        "drop_cus_list=df_cus_summary[df_cus_summary['count']<cus_bench_mark].index"
      ],
      "metadata": {
        "id": "whxawWWwVXRv"
      },
      "execution_count": null,
      "outputs": []
    },
    {
      "cell_type": "code",
      "source": [
        "print(f'movie minimum times of review{movie_benchmark}')\n",
        "print(f'customer minimum times of review{cus_bench_mark}')"
      ],
      "metadata": {
        "id": "TBlcyjLBWNUf"
      },
      "execution_count": null,
      "outputs": []
    },
    {
      "cell_type": "markdown",
      "source": [
        "## ##trim down the data"
      ],
      "metadata": {
        "id": "MAbSBPe2bVRr"
      }
    },
    {
      "cell_type": "code",
      "source": [
        "print(f'shape of df1 before{df1.shape}')\n",
        "df1=df1[~df1['Movie_Id'].isin(drop_movie_list)]\n",
        "df1=df1[~df1['Cust_Id'].isin([drop_cus_list])]\n",
        "#print(f'trimmed movie list shape{df1.shape()}')"
      ],
      "metadata": {
        "id": "GNkzjS9Dba46"
      },
      "execution_count": null,
      "outputs": []
    },
    {
      "cell_type": "code",
      "source": [
        "print(f'trimmed movie list shape{df1.shape}')"
      ],
      "metadata": {
        "id": "5GUpUE7JcsPg"
      },
      "execution_count": null,
      "outputs": []
    },
    {
      "cell_type": "code",
      "source": [
        "#pivot table\n",
        "df_p=pd.pivot_table(df1,values='Rating',index='Cust_Id',columns='Movie_Id')\n",
        "print(df_p.shape)"
      ],
      "metadata": {
        "id": "1Cycnd3jydPc"
      },
      "execution_count": null,
      "outputs": []
    },
    {
      "cell_type": "code",
      "source": [
        "df_p"
      ],
      "metadata": {
        "id": "UxB4Zg7Zzfau"
      },
      "execution_count": null,
      "outputs": []
    },
    {
      "cell_type": "markdown",
      "source": [
        "##Data Mapping"
      ],
      "metadata": {
        "id": "euu2IYYTvwuM"
      }
    },
    {
      "cell_type": "code",
      "source": [
        "df_title=pd.read_csv('/content/movie_titles.csv',encoding=\"ISO-8859-1\",header=None,names=['Movie_Id','Year','Name'])\n",
        "df_title.set_index('Movie_Id',inplace=True)\n",
        "print(df_title)"
      ],
      "metadata": {
        "id": "Gs09OgOqvzL0"
      },
      "execution_count": null,
      "outputs": []
    },
    {
      "cell_type": "markdown",
      "source": [
        "##Recommendation through collabrative filtering"
      ],
      "metadata": {
        "id": "Z0C5_xFIx-at"
      }
    },
    {
      "cell_type": "code",
      "source": [
        "reader=Reader()\n",
        "data=Dataset.load_from_df(df1[['Cust_Id','Movie_Id','Rating']][:],reader)\n",
        "svd=SVD()\n",
        "cross_validate(svd,data,measures=['RMSE','MAE'])"
      ],
      "metadata": {
        "id": "jnvGL5t8yIJ6"
      },
      "execution_count": null,
      "outputs": []
    },
    {
      "cell_type": "code",
      "source": [
        "df1.columns"
      ],
      "metadata": {
        "id": "xrBUzQNh7FGM"
      },
      "execution_count": null,
      "outputs": []
    },
    {
      "cell_type": "code",
      "source": [
        "df1"
      ],
      "metadata": {
        "id": "jLhEYOWt_ccA"
      },
      "execution_count": null,
      "outputs": []
    },
    {
      "cell_type": "code",
      "source": [
        "df_4000=df1[(df1[(df1['Cust_Id']==697)&df1['Rating']==3])]\n",
        "df_4000=df_4000.set_index('Movie_Id')"
      ],
      "metadata": {
        "id": "7lXsL8lp1squ"
      },
      "execution_count": null,
      "outputs": []
    },
    {
      "cell_type": "code",
      "source": [
        "df_4000=df_4000.join(df_title)['Name']"
      ],
      "metadata": {
        "id": "MId4yGPr9wZT"
      },
      "execution_count": null,
      "outputs": []
    },
    {
      "cell_type": "code",
      "source": [
        "df_4000"
      ],
      "metadata": {
        "id": "a6238c1y_Nxs"
      },
      "execution_count": null,
      "outputs": []
    },
    {
      "cell_type": "code",
      "source": [
        "user=df_title.copy()\n",
        "user=user.reset_index()\n",
        "user=user[~user['Movie_Id'].isin(drop_movie_list)]\n",
        "data=Dataset.load_from_df(df1[['Cust_Id','Movie_Id','Rating']],reader)"
      ],
      "metadata": {
        "id": "6oyhbMFUnRxO"
      },
      "execution_count": null,
      "outputs": []
    },
    {
      "cell_type": "code",
      "source": [
        "trainset=data.build_full_trainset()"
      ],
      "metadata": {
        "id": "F5hX7VoBuYBu"
      },
      "execution_count": null,
      "outputs": []
    },
    {
      "cell_type": "code",
      "source": [
        "svd.fit(trainset)"
      ],
      "metadata": {
        "id": "5q5qlb7nujPp"
      },
      "execution_count": null,
      "outputs": []
    },
    {
      "cell_type": "code",
      "source": [
        "user['Estimate_score']=user['Movie_Id'].apply(lambda x:svd.predict(657,x).est)\n",
        "user=user.drop(['Movie_Id'],axis=1)\n",
        "user=user.sort_values('Estimate_score',ascending=False)"
      ],
      "metadata": {
        "id": "AHBrGZ__u8O2"
      },
      "execution_count": null,
      "outputs": []
    },
    {
      "cell_type": "code",
      "source": [
        "print(user.head(10))"
      ],
      "metadata": {
        "id": "RMRJQSHpweYZ"
      },
      "execution_count": null,
      "outputs": []
    }
  ]
}