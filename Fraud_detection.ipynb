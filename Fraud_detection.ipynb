{
  "nbformat": 4,
  "nbformat_minor": 0,
  "metadata": {
    "colab": {
      "private_outputs": true,
      "provenance": [],
      "authorship_tag": "ABX9TyOxdvvp6n795e2ZlyrvnQQU",
      "include_colab_link": true
    },
    "kernelspec": {
      "name": "python3",
      "display_name": "Python 3"
    },
    "language_info": {
      "name": "python"
    }
  },
  "cells": [
    {
      "cell_type": "markdown",
      "metadata": {
        "id": "view-in-github",
        "colab_type": "text"
      },
      "source": [
        "<a href=\"https://colab.research.google.com/github/AditiLORenzo/Aditiprojects/blob/main/Fraud_detection.ipynb\" target=\"_parent\"><img src=\"https://colab.research.google.com/assets/colab-badge.svg\" alt=\"Open In Colab\"/></a>"
      ]
    },
    {
      "cell_type": "code",
      "execution_count": null,
      "metadata": {
        "id": "oA4-Lh8wBxr5"
      },
      "outputs": [],
      "source": [
        "import pandas as pd\n",
        "\n",
        "import matplotlib.pyplot as plt\n",
        "import seaborn as sns"
      ]
    },
    {
      "cell_type": "code",
      "source": [
        "plt.rcParams['figure.figsize'] = (16, 5)\n",
        "# setting up the style of the plot\n",
        "plt.style.use('fivethirtyeight')"
      ],
      "metadata": {
        "id": "3hyVDSj0Wx4v"
      },
      "execution_count": null,
      "outputs": []
    },
    {
      "cell_type": "code",
      "source": [
        "data=pd.read_csv('/content/Fraud.csv')"
      ],
      "metadata": {
        "id": "or0vn8xlOx42"
      },
      "execution_count": null,
      "outputs": []
    },
    {
      "cell_type": "code",
      "source": [
        "data"
      ],
      "metadata": {
        "id": "qXXXIYrKPm_6"
      },
      "execution_count": null,
      "outputs": []
    },
    {
      "cell_type": "markdown",
      "source": [
        "##Finding missing values"
      ],
      "metadata": {
        "id": "4E3X5vy_P5fH"
      }
    },
    {
      "cell_type": "code",
      "source": [
        "data.isnull().sum()"
      ],
      "metadata": {
        "id": "cO_WQUgXP9N8"
      },
      "execution_count": null,
      "outputs": []
    },
    {
      "cell_type": "code",
      "source": [
        "data"
      ],
      "metadata": {
        "id": "w6ptBrSzDVwC"
      },
      "execution_count": null,
      "outputs": []
    },
    {
      "cell_type": "code",
      "source": [
        "#data['oldbalanceDest']=data['oldbalanceDest'].fillna(data['oldbalanceDest'].median())\n",
        "#data['newbalanceDest']=data['newbalanceDest'].fillna(data['newbalanceDest'].median())\n",
        "#data['isFraud']=data['isFraud'].fillna(data['isFraud'].median())\n",
        "#data['isFlaggedFraud']=data['isFlaggedFraud'].fillna(data['isFlaggedFraud'].median())"
      ],
      "metadata": {
        "id": "qaUSEkUaQNku"
      },
      "execution_count": null,
      "outputs": []
    },
    {
      "cell_type": "code",
      "source": [
        "data.isnull().sum().all()"
      ],
      "metadata": {
        "id": "Srx0oP7YURjL"
      },
      "execution_count": null,
      "outputs": []
    },
    {
      "cell_type": "code",
      "source": [
        "data.columns"
      ],
      "metadata": {
        "id": "4EfBdbUBW7qr"
      },
      "execution_count": null,
      "outputs": []
    },
    {
      "cell_type": "markdown",
      "source": [
        "##removing non required column"
      ],
      "metadata": {
        "id": "wHPk99buwBSe"
      }
    },
    {
      "cell_type": "code",
      "source": [
        "#data=data.drop(['step','nameOrig','nameDest'],axis=1)"
      ],
      "metadata": {
        "id": "J7oWR4AhwMJe"
      },
      "execution_count": null,
      "outputs": []
    },
    {
      "cell_type": "markdown",
      "source": [
        "##Converting categorical data"
      ],
      "metadata": {
        "id": "-mT8akF2g75p"
      }
    },
    {
      "cell_type": "code",
      "source": [
        "data.select_dtypes('object').head()"
      ],
      "metadata": {
        "id": "51kajsKyh16j"
      },
      "execution_count": null,
      "outputs": []
    },
    {
      "cell_type": "code",
      "source": [
        "from sklearn.preprocessing import LabelEncoder\n",
        "\n",
        "d_types = dict(data.dtypes)\n",
        "\n",
        "for name , type_ in d_types.items():\n",
        "    if str(type_) == 'object':\n",
        "        Le = LabelEncoder()\n",
        "        data[name] = Le.fit_transform(data[name])"
      ],
      "metadata": {
        "id": "dqgXezjVg8QR"
      },
      "execution_count": null,
      "outputs": []
    },
    {
      "cell_type": "code",
      "source": [
        "data"
      ],
      "metadata": {
        "id": "k4-q3l5LDuZi"
      },
      "execution_count": null,
      "outputs": []
    },
    {
      "cell_type": "markdown",
      "source": [
        "##Correlation\n",
        "##we calculate correlation to see which one is highly correlated with our target data which is isFraud"
      ],
      "metadata": {
        "id": "X7zykcjXdVa5"
      }
    },
    {
      "cell_type": "code",
      "source": [
        "plt.rcParams['figure.figsize']=(15,8)\n",
        "sns.heatmap(data.corr(),annot=True,linewidths=0.5,cmap='Accent')\n",
        "plt.title(\"Correlation Heat Map\",fontsize=15)\n",
        "plt.show()"
      ],
      "metadata": {
        "id": "5_6n8MN1cqFP"
      },
      "execution_count": null,
      "outputs": []
    },
    {
      "cell_type": "markdown",
      "source": [
        "##Outliers detection and removal\n",
        "we also have to verify which data column might contain outliers so that may affect our model accuracy"
      ],
      "metadata": {
        "id": "tZSejEuuEKIY"
      }
    },
    {
      "cell_type": "code",
      "source": [
        "plt.rcParams['figure.figsize'] = (15, 5)\n",
        "plt.style.use('fivethirtyeight')\n",
        "\n",
        "# Box plot for average training score\n",
        "plt.subplot(1,9,1)\n",
        "sns.boxplot(data['amount'],color='red')\n",
        "plt.xlabel('amount',fontsize=12)\n",
        "plt.ylabel('Range',fontsize=12)\n",
        "# Box plot for length of service\n",
        "plt.subplot(1,9,2)\n",
        "sns.boxplot(data['oldbalanceOrg'],color='yellow')\n",
        "plt.xlabel('oldbalance',fontsize=12)\n",
        "plt.ylabel('Range',fontsize=12)\n",
        "\n",
        "plt.subplot(1,9,3)\n",
        "sns.boxplot(data['newbalanceOrig'],color='yellow')\n",
        "plt.xlabel('newbalanceOrig',fontsize=12)\n",
        "plt.ylabel('Range',fontsize=12)\n",
        "plt.suptitle('Box Plot', fontsize = 20)\n",
        "\n",
        "plt.subplot(1,9,4)\n",
        "sns.boxplot(data['type'],color='yellow')\n",
        "plt.xlabel('type',fontsize=12)\n",
        "plt.ylabel('Range',fontsize=12)\n",
        "plt.suptitle('Box Plot', fontsize = 20)\n",
        "\n",
        "plt.subplot(1,9,5)\n",
        "sns.boxplot(data['nameDest'],color='yellow')\n",
        "plt.xlabel('nameDest',fontsize=12)\n",
        "plt.ylabel('Range',fontsize=12)\n",
        "plt.suptitle('Box Plot', fontsize = 20)\n",
        "\n",
        "plt.subplot(1,9,6)\n",
        "sns.boxplot(data['newbalanceDest'],color='yellow')\n",
        "plt.xlabel('newbalanceDest',fontsize=12)\n",
        "plt.ylabel('Range',fontsize=12)\n",
        "\n",
        "plt.subplot(1,9,7)\n",
        "sns.boxplot(data['nameOrig'],color='yellow')\n",
        "plt.xlabel('Originalname',fontsize=12)\n",
        "plt.ylabel('Range',fontsize=12)\n",
        "\n",
        "plt.subplot(1,9,8)\n",
        "sns.boxplot(data['step'],color='yellow')\n",
        "plt.xlabel('step',fontsize=12)\n",
        "plt.ylabel('Range',fontsize=12)\n",
        "\n",
        "plt.subplot(1,9,9)\n",
        "sns.boxplot(data['oldbalanceDest'],color='yellow')\n",
        "plt.xlabel('oldbalanceDest',fontsize=12)\n",
        "plt.ylabel('Range',fontsize=12)\n",
        "plt.suptitle('Box Plot', fontsize = 20)\n",
        "\n",
        "plt.show()\n"
      ],
      "metadata": {
        "id": "kVH0uX4LCI1l"
      },
      "execution_count": null,
      "outputs": []
    },
    {
      "cell_type": "code",
      "source": [
        "data = data[data['nameDest'] <260000]\n",
        "#data = data[data['Originalname']<1]\n",
        "data = data[data['step']<55]\n",
        "#data= data[data['type']<3]\n",
        "#data = data[data['length_of_service'] > 13]"
      ],
      "metadata": {
        "id": "OL2hdo1vIWkm"
      },
      "execution_count": null,
      "outputs": []
    },
    {
      "cell_type": "code",
      "source": [
        "data=data.drop(['amount','oldbalanceOrg','newbalanceOrig','newbalanceDest','oldbalanceDest'],axis=1)"
      ],
      "metadata": {
        "id": "W49_1G_CKaDo"
      },
      "execution_count": null,
      "outputs": []
    },
    {
      "cell_type": "code",
      "source": [
        "data=data.drop(['isFlaggedFraud','nameOrig'],axis=1)"
      ],
      "metadata": {
        "id": "Gk0vVvUQNM5M"
      },
      "execution_count": null,
      "outputs": []
    },
    {
      "cell_type": "markdown",
      "source": [
        "## removal of outliers\n",
        "after removal of all the outliers we see that 'nameDest','step','nameOrig' and 'type' are the useful column we have also removed 'isflaggedfraud'"
      ],
      "metadata": {
        "id": "4P-r9EJBQ5rc"
      }
    },
    {
      "cell_type": "code",
      "source": [
        "plt.subplot(1,3,1)\n",
        "sns.boxplot(data['nameDest'],color='yellow')\n",
        "plt.xlabel('ND',fontsize=12)\n",
        "plt.ylabel('Range',fontsize=12)\n",
        "\n",
        "plt.subplot(1,3,2)\n",
        "sns.boxplot(data['step'],color='yellow')\n",
        "plt.xlabel('nbD',fontsize=12)\n",
        "plt.ylabel('Range',fontsize=12)\n",
        "\n",
        "plt.subplot(1,3,3)\n",
        "sns.boxplot(data['nameOrig'],color='yellow')\n",
        "plt.xlabel('originalname',fontsize=12)\n",
        "plt.ylabel('Range',fontsize=12)\n",
        "plt.suptitle('Box Plot', fontsize = 20)\n",
        "plt.show()"
      ],
      "metadata": {
        "id": "0SlPgPKuLt2R"
      },
      "execution_count": null,
      "outputs": []
    },
    {
      "cell_type": "markdown",
      "source": [
        "##correlation"
      ],
      "metadata": {
        "id": "FFQOdNKcNDz6"
      }
    },
    {
      "cell_type": "code",
      "source": [
        "plt.rcParams['figure.figsize']=(15,8)\n",
        "sns.heatmap(data.corr(),annot=True,linewidths=0.5,cmap='Accent')\n",
        "plt.title(\"Correlation Heat Map\",fontsize=15)\n",
        "plt.show()"
      ],
      "metadata": {
        "id": "XJNeKz_5NARj"
      },
      "execution_count": null,
      "outputs": []
    },
    {
      "cell_type": "markdown",
      "source": [
        "##Applying model"
      ],
      "metadata": {
        "id": "EDlu8VuOdcSV"
      }
    },
    {
      "cell_type": "code",
      "source": [
        "X=data.drop(['isFraud'],axis=1)\n",
        "Y=data['isFraud']"
      ],
      "metadata": {
        "id": "rGirT3KmCiIk"
      },
      "execution_count": null,
      "outputs": []
    },
    {
      "cell_type": "code",
      "source": [
        "from sklearn.model_selection import train_test_split\n",
        "\n",
        "x_train, x_test, y_train, y_test = train_test_split(X,Y,test_size = 0.2,random_state = 0)"
      ],
      "metadata": {
        "id": "Urjfq4ZeCLOh"
      },
      "execution_count": null,
      "outputs": []
    },
    {
      "cell_type": "code",
      "source": [
        "from sklearn.preprocessing import StandardScaler\n",
        "\n",
        "sc = StandardScaler()\n",
        "x_train = sc.fit_transform(x_train)\n",
        "#x_valid = sc.transform(x_valid)\n",
        "x_test = sc.transform(x_test)"
      ],
      "metadata": {
        "id": "dsu0IrqKDLZz"
      },
      "execution_count": null,
      "outputs": []
    },
    {
      "cell_type": "code",
      "source": [
        "from sklearn.tree import DecisionTreeClassifier\n",
        "\n",
        "model = DecisionTreeClassifier()\n",
        "model.fit(x_train, y_train)\n",
        "\n",
        "y_pred = model.predict(x_test)"
      ],
      "metadata": {
        "id": "-YmFKJsZdZQ9"
      },
      "execution_count": null,
      "outputs": []
    },
    {
      "cell_type": "code",
      "source": [
        "from sklearn.metrics import confusion_matrix, classification_report\n",
        "\n",
        "print(\"Training Accuracy :\", model.score(x_train, y_train))\n",
        "print(\"Testing Accuracy :\", model.score(x_test, y_test))\n",
        "\n",
        "cm = confusion_matrix(y_test, y_pred)\n",
        "plt.rcParams['figure.figsize'] = (3, 3)\n",
        "sns.heatmap(cm, annot = True, cmap = 'Wistia', fmt = '.8g')\n",
        "plt.xlabel('Predicted Values')\n",
        "plt.ylabel('Actual Values')\n",
        "plt.show()"
      ],
      "metadata": {
        "id": "WAxd4y0odZUU"
      },
      "execution_count": null,
      "outputs": []
    }
  ]
}