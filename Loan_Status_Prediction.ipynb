{
  "nbformat": 4,
  "nbformat_minor": 0,
  "metadata": {
    "colab": {
      "private_outputs": true,
      "provenance": [],
      "collapsed_sections": [],
      "authorship_tag": "ABX9TyMEDNSSDb3fCydluJhGYvjk",
      "include_colab_link": true
    },
    "kernelspec": {
      "name": "python3",
      "display_name": "Python 3"
    },
    "language_info": {
      "name": "python"
    }
  },
  "cells": [
    {
      "cell_type": "markdown",
      "metadata": {
        "id": "view-in-github",
        "colab_type": "text"
      },
      "source": [
        "<a href=\"https://colab.research.google.com/github/AditiLORenzo/Aditiprojects/blob/main/Loan_Status_Prediction.ipynb\" target=\"_parent\"><img src=\"https://colab.research.google.com/assets/colab-badge.svg\" alt=\"Open In Colab\"/></a>"
      ]
    },
    {
      "cell_type": "code",
      "execution_count": null,
      "metadata": {
        "id": "JCTEM988FyXm"
      },
      "outputs": [],
      "source": [
        "import numpy as np\n",
        "import pandas as pd\n",
        "\n",
        "import matplotlib.pyplot as plt\n",
        "import seaborn as sns\n",
        "import sklearn\n",
        "import imblearn"
      ]
    },
    {
      "cell_type": "markdown",
      "source": [
        "Reading the data"
      ],
      "metadata": {
        "id": "KlIhp9OB790l"
      }
    },
    {
      "cell_type": "code",
      "source": [
        "data=pd.read_csv('/content/LoanData.csv')\n",
        "data1=data.copy()\n",
        "data1.shape"
      ],
      "metadata": {
        "id": "anCokQhV8AEd"
      },
      "execution_count": null,
      "outputs": []
    },
    {
      "cell_type": "code",
      "source": [
        "data.columns"
      ],
      "metadata": {
        "id": "Q0LxK1nC8tJ7"
      },
      "execution_count": null,
      "outputs": []
    },
    {
      "cell_type": "code",
      "source": [
        "data.head()"
      ],
      "metadata": {
        "id": "oy6d74lE8zuS"
      },
      "execution_count": null,
      "outputs": []
    },
    {
      "cell_type": "markdown",
      "source": [
        "Descriptive Statistics"
      ],
      "metadata": {
        "id": "Wl6GLt_H86dn"
      }
    },
    {
      "cell_type": "code",
      "source": [
        "data.describe()"
      ],
      "metadata": {
        "id": "bDNN3jnL84JQ"
      },
      "execution_count": null,
      "outputs": []
    },
    {
      "cell_type": "code",
      "source": [
        "data.describe(include='object')"
      ],
      "metadata": {
        "id": "Gw_iMQBU9EtM"
      },
      "execution_count": null,
      "outputs": []
    },
    {
      "cell_type": "code",
      "source": [
        "data['Loan_Status'].value_counts()"
      ],
      "metadata": {
        "id": "Q5Ke66Ap9zuF"
      },
      "execution_count": null,
      "outputs": []
    },
    {
      "cell_type": "markdown",
      "source": [
        "Data Cleaning"
      ],
      "metadata": {
        "id": "3t9ykftU-Dmc"
      }
    },
    {
      "cell_type": "code",
      "source": [
        "data.isnull().sum()"
      ],
      "metadata": {
        "id": "BtRl07zB-G4P"
      },
      "execution_count": null,
      "outputs": []
    },
    {
      "cell_type": "code",
      "source": [
        "#imputing the missing values with mode\n",
        "data['Gender']=data['Gender'].fillna(data['Gender'].mode()[0])\n",
        "data['Married']=data['Married'].fillna(data['Married'].mode()[0])\n",
        "data['Dependents']=data['Dependents'].fillna(data['Dependents'].mode()[0])\n",
        "data['Self_Employed']=data['Self_Employed'].fillna(data['Self_Employed'].mode()[0])\n",
        "data['LoanAmount']=data['LoanAmount'].fillna(data['LoanAmount'].median())\n",
        "data['Loan_Amount_Term']=data['Loan_Amount_Term'].fillna(data['Loan_Amount_Term'].median())\n",
        "data['Credit_History']=data['Credit_History'].fillna(data['Credit_History'].median())\n",
        "\n",
        "data.isnull().sum().sum()"
      ],
      "metadata": {
        "id": "uiycVEZ0-d4L"
      },
      "execution_count": null,
      "outputs": []
    },
    {
      "cell_type": "code",
      "source": [
        "#visualizing the outliers\n",
        "plt.style.use('fivethirtyeight')\n",
        "plt.rcParams['figure.figsize']=(15,3)\n",
        "\n",
        "plt.subplot(1,3,1)\n",
        "sns.boxplot(data['ApplicantIncome'])\n",
        "\n",
        "plt.subplot(1,3,2)\n",
        "sns.boxplot(data['CoapplicantIncome'])\n",
        "\n",
        "plt.subplot(1,3,3)\n",
        "sns.boxplot(data['LoanAmount'])\n",
        "\n",
        "plt.suptitle('Outliers Present in the Data ')\n",
        "plt.show()"
      ],
      "metadata": {
        "id": "28idMU0WFtC_"
      },
      "execution_count": null,
      "outputs": []
    },
    {
      "cell_type": "code",
      "source": [
        "#before removing the outliers\n",
        "print(\"before Removing Outliers\",data.shape)\n",
        "data=data[data['ApplicantIncome']<25000]\n",
        "#after removing outlier\n",
        "print(\"after removing outliers\",data.shape)"
      ],
      "metadata": {
        "id": "kE93WVFBH8rY"
      },
      "execution_count": null,
      "outputs": []
    },
    {
      "cell_type": "code",
      "source": [
        "data=data[data['CoapplicantIncome']<10000]\n",
        "data.shape\n",
        "#plt.subplot(1,1,1)\n",
        "#sns.boxplot(data2['CoapplicantIncome'])\n",
        "\n",
        "#plt.suptitle(\"plotint data2 without outlier\")\n",
        "#plt.show()"
      ],
      "metadata": {
        "id": "tAK8tJ-SizT9"
      },
      "execution_count": null,
      "outputs": []
    },
    {
      "cell_type": "code",
      "source": [
        "data=data[data['LoanAmount']<400]\n",
        "data.shape\n",
        "#plt.subplot(1,1,1)\n",
        "#sns.boxplot(data2['LoanAmount'])\n",
        "\n",
        "#plt.suptitle(\"Loan Amount\")\n",
        "#plt.show()"
      ],
      "metadata": {
        "id": "yn7nnyoqsvqh"
      },
      "execution_count": null,
      "outputs": []
    },
    {
      "cell_type": "markdown",
      "source": [
        "After removing all the outlier shape will become"
      ],
      "metadata": {
        "id": "2KJVVmHEtfrQ"
      }
    },
    {
      "cell_type": "code",
      "source": [
        "data.shape"
      ],
      "metadata": {
        "id": "jSeFoRJwtdnW"
      },
      "execution_count": null,
      "outputs": []
    },
    {
      "cell_type": "markdown",
      "source": [
        "Univariate Data Analysis"
      ],
      "metadata": {
        "id": "sWA0vS7-st5M"
      }
    },
    {
      "cell_type": "code",
      "source": [
        "#univariate analysis on Numerical column\n",
        "plt.rcParams['figure.figsize']=(15,8)\n",
        "\n",
        "plt.subplot(1,3,1)\n",
        "sns.distplot(data['ApplicantIncome'],color='Pink')\n",
        "\n",
        "plt.subplot(1,3,2)\n",
        "sns.distplot(data['CoapplicantIncome'],color='green')\n",
        "\n",
        "plt.subplot(1,3,3)\n",
        "sns.distplot(data['LoanAmount'],color='yellow')\n",
        "\n",
        "plt.suptitle(\"Univariate data analysis\")\n",
        "plt.show()"
      ],
      "metadata": {
        "id": "ajaPthi5tsLJ"
      },
      "execution_count": null,
      "outputs": []
    },
    {
      "cell_type": "code",
      "source": [
        "# removing skewness from data\n",
        "import warnings\n",
        "warnings.filterwarnings('ignore')\n",
        "plt.rcParams['figure.figsize']=(18,4)\n",
        "\n",
        "#lets apply log transformation to remove skewness\n",
        "data['ApplicantIncome']=np.log(data['ApplicantIncome'])\n",
        "data['CoapplicantIncome']=np.log1p(data['CoapplicantIncome'])\n",
        "#data2['LoanAmount']=np.log(data2['LoanAmount'])\n",
        "\n",
        "#plotting the without skewness\n",
        "plt.rcParams['figure.figsize']=(18,5)\n",
        "\n",
        "plt.subplot(1,2,1)\n",
        "sns.distplot(data['ApplicantIncome'],color='pink')\n",
        "\n",
        "plt.subplot(1,2,2)\n",
        "sns.distplot(data['CoapplicantIncome'],color='green')\n",
        "\n",
        "#plt.subplot(1,3,3)\n",
        "#sns.distplot(data2['LoanAmount'],color='yellow')\n",
        "\n",
        "plt.suptitle(\"skewness removed\")\n",
        "plt.show()\n"
      ],
      "metadata": {
        "id": "gpkIC3Zmvz-v"
      },
      "execution_count": null,
      "outputs": []
    },
    {
      "cell_type": "code",
      "source": [
        "#univariate analysis on categorical column\n",
        "plt.rcParams['figure.figsize']=(18,8)\n",
        "\n",
        "plt.subplot(2,4,1)\n",
        "sns.countplot(data['Gender'],palette='cool')\n",
        "\n",
        "plt.subplot(2,4,2)\n",
        "sns.countplot(data['Married'],palette='cool')\n",
        "\n",
        "plt.subplot(2,4,3)\n",
        "sns.countplot(data['Dependents'],palette='cool')\n",
        "\n",
        "plt.subplot(2,4,4)\n",
        "sns.countplot(data['Self_Employed'],palette='cool')\n",
        "\n",
        "plt.subplot(2, 4, 5)\n",
        "sns.countplot(data['Credit_History'], palette = 'cool')\n",
        "\n",
        "plt.subplot(2, 4, 6)\n",
        "sns.countplot(data['Property_Area'], palette = 'cool')\n",
        "\n",
        "plt.subplot(2, 4, 7)\n",
        "sns.countplot(data['Education'], palette = 'cool')\n",
        "\n",
        "plt.subplot(2,4,8)\n",
        "sns.countplot(data['Loan_Status'],palette='cool')\n",
        "\n",
        "plt.suptitle(\"univariate analysis of categorical data\")\n",
        "plt.show()"
      ],
      "metadata": {
        "id": "vHeBb6ao2lCe"
      },
      "execution_count": null,
      "outputs": []
    },
    {
      "cell_type": "markdown",
      "source": [
        "Bivariate Data Analysis"
      ],
      "metadata": {
        "id": "1xSU91Cp7i5E"
      }
    },
    {
      "cell_type": "code",
      "source": [
        "plt.rcParams['figure.figsize']=(18,7)\n",
        "plt.subplot(1,2,1)\n",
        "sns.boxenplot(data['Loan_Status'],data['ApplicantIncome'],palette='cool')\n",
        "\n",
        "plt.subplot(1,2,2)\n",
        "sns.boxenplot(data['Loan_Status'],data['CoapplicantIncome'],palette='cool')\n",
        "\n",
        "plt.suptitle('Bivariate data Analysis')\n",
        "plt.show()"
      ],
      "metadata": {
        "id": "PxGuUggN7owx"
      },
      "execution_count": null,
      "outputs": []
    },
    {
      "cell_type": "code",
      "source": [
        "sns.lineplot(data['Loan_Status'],data['LoanAmount'])"
      ],
      "metadata": {
        "id": "ct7vCb9zkKFT"
      },
      "execution_count": null,
      "outputs": []
    },
    {
      "cell_type": "code",
      "source": [
        "sns.lineplot(data['Loan_Status'],data['Loan_Amount_Term'])"
      ],
      "metadata": {
        "id": "Y8NqA5UEo6nt"
      },
      "execution_count": null,
      "outputs": []
    },
    {
      "cell_type": "markdown",
      "source": [
        "Comparing categorical data with TargetColumn"
      ],
      "metadata": {
        "id": "BKB3dhmul6VI"
      }
    },
    {
      "cell_type": "code",
      "source": [
        "#lets compare all the categories with respect to loan status\n",
        "print(\"impact of marriage on loan status\")\n",
        "print(pd.crosstab(data['Loan_Status'],data['Married']))\n",
        "print('\\n')\n",
        "print(\"impact of Dependents on Loasn status\")\n",
        "print(pd.crosstab(data['Loan_Status'],data['Dependents']))\n",
        "print('\\n')\n",
        "print(\"Impact of education on loanstatus\")\n",
        "print(pd.crosstab(data['Loan_Status'],data['Education']))\n",
        "print('\\n')\n",
        "print(\"Impact of Employement on Loan status\")\n",
        "print(pd.crosstab(data['Loan_Status'],data['Self_Employed']))\n",
        "print('\\n')\n",
        "print(\"Impact of property on loan status\")\n",
        "print(pd.crosstab(data['Loan_Status'],data['Property_Area']))\n",
        "print('\\n')"
      ],
      "metadata": {
        "id": "d0ITWlKkmAqN"
      },
      "execution_count": null,
      "outputs": []
    },
    {
      "cell_type": "markdown",
      "source": [
        "Data-**Preparation**"
      ],
      "metadata": {
        "id": "AEDSpjCM7i_h"
      }
    },
    {
      "cell_type": "code",
      "source": [
        "data.select_dtypes('object').head()"
      ],
      "metadata": {
        "id": "xg7668q8pNhJ"
      },
      "execution_count": null,
      "outputs": []
    },
    {
      "cell_type": "code",
      "source": [
        "#lets delete the loanId as it has no relation with loan status\n",
        "#before deleting that column\n",
        "print(\"shape of data\",data.shape)\n"
      ],
      "metadata": {
        "id": "byuiRrk4pa4P"
      },
      "execution_count": null,
      "outputs": []
    },
    {
      "cell_type": "code",
      "source": [
        "data=data.drop(['Loan_ID'],axis=1)"
      ],
      "metadata": {
        "id": "dW2PckK5ThxO"
      },
      "execution_count": null,
      "outputs": []
    },
    {
      "cell_type": "code",
      "source": [
        "#shape after deleting the LoanID column\n",
        "data.shape"
      ],
      "metadata": {
        "id": "Xxfnjw-SUHhg"
      },
      "execution_count": null,
      "outputs": []
    },
    {
      "cell_type": "code",
      "source": [
        "data.describe(include='object')"
      ],
      "metadata": {
        "id": "IoI-iGbRVjKf"
      },
      "execution_count": null,
      "outputs": []
    },
    {
      "cell_type": "code",
      "source": [
        "#encoding other categorical column\n",
        "#data3['Gender']=data3['Gender'].replace(('male','female'),(1,0))\n",
        "data['Married']=data['Married'].replace(('Yes','No'),(1,0))\n",
        "data['Education']=data['Education'].replace(('Graduate','Not Graduate'),(1,0))\n",
        "data['Self_Employed']=data['Self_Employed'].replace(('Yes','No'),(1,0))\n",
        "data['Loan_Status']=data['Loan_Status'].replace(('Y','N'),(1,0))\n",
        "\n",
        "# As seen above urban and semiurban has same impact on loan status\n",
        "data['Property_Area']=data['Property_Area'].replace(('Urban','Semiurban','Rural'),(1,1,0))\n",
        "#other than 0 dependents all has same impact\n",
        "data['Dependents']=data['Dependents'].replace(('0','1','2','3+'),(0,1,1,1))\n",
        "data.select_dtypes('object').columns"
      ],
      "metadata": {
        "id": "ouhPxeZTUkXE"
      },
      "execution_count": null,
      "outputs": []
    },
    {
      "cell_type": "code",
      "source": [
        "data['Gender']=data['Gender'].replace(('Male','Female'),(1,0))"
      ],
      "metadata": {
        "id": "dOXjy7fvFDqv"
      },
      "execution_count": null,
      "outputs": []
    },
    {
      "cell_type": "code",
      "source": [
        "data.select_dtypes('object').columns"
      ],
      "metadata": {
        "id": "CMBKJqVmFRn4"
      },
      "execution_count": null,
      "outputs": []
    },
    {
      "cell_type": "code",
      "source": [
        "data"
      ],
      "metadata": {
        "id": "oOS8hDgeFhIm"
      },
      "execution_count": null,
      "outputs": []
    },
    {
      "cell_type": "code",
      "source": [
        "# lets split the target column from the \n",
        "y=data['Loan_Status']\n",
        "x=data.drop(['Loan_Status'],axis=1)\n",
        "\n",
        "print(\"shape of x axis data is\\n\",x.shape)\n",
        "print(\"shape of y axis data is\\n\",y.shape)\n"
      ],
      "metadata": {
        "id": "5Ox5rZzdZEAf"
      },
      "execution_count": null,
      "outputs": []
    },
    {
      "cell_type": "code",
      "source": [
        "data.isnull().sum().sum()"
      ],
      "metadata": {
        "id": "mbra_v7nF9Aa"
      },
      "execution_count": null,
      "outputs": []
    },
    {
      "cell_type": "code",
      "source": [
        "data.isnull().sum()"
      ],
      "metadata": {
        "id": "iOvRuoQHGRvz"
      },
      "execution_count": null,
      "outputs": []
    },
    {
      "cell_type": "code",
      "source": [
        "#data3['Gender'].dropna()\n",
        "#data3['Married'].dropna()\n",
        "#data3['Dependents'].dropna()\n",
        "#data3['Self_Employed'].dropna()\n",
        "#data3['Loan_Amount_Term'].dropna()\n",
        "#data3['Credit_History'].dropna()\n"
      ],
      "metadata": {
        "id": "kfibIbEWGbaQ"
      },
      "execution_count": null,
      "outputs": []
    },
    {
      "cell_type": "markdown",
      "source": [
        "Resampling to balance the data"
      ],
      "metadata": {
        "id": "GwCPxJN-aKSQ"
      }
    },
    {
      "cell_type": "code",
      "source": [
        "#importing SMOTE\n",
        "from imblearn.over_sampling import SMOTE\n",
        "x_resample, y_resample  = SMOTE().fit_resample(x, y.values.ravel())"
      ],
      "metadata": {
        "id": "QMq-VpnVaIlh"
      },
      "execution_count": null,
      "outputs": []
    },
    {
      "cell_type": "markdown",
      "source": [
        "Splitting it into"
      ],
      "metadata": {
        "id": "WThcRZ0ccgjj"
      }
    },
    {
      "cell_type": "code",
      "source": [
        "from sklearn.model_selection import train_test_split"
      ],
      "metadata": {
        "id": "VMCvD2VpbqFw"
      },
      "execution_count": null,
      "outputs": []
    },
    {
      "cell_type": "code",
      "source": [
        "x_train,x_test,y_train,y_test=train_test_split(x,y,test_size=0.2,random_state=0)"
      ],
      "metadata": {
        "id": "VHxRarar-oQJ"
      },
      "execution_count": null,
      "outputs": []
    },
    {
      "cell_type": "code",
      "source": [
        "print(\"shape of x_train\",x_train.shape)\n",
        "print(\"shape of y_train\",y_train.shape)\n",
        "print(\"shape of x_test\",x_test.shape)\n",
        "print(\"shape of y_test\",y_test.shape)"
      ],
      "metadata": {
        "id": "Rn88t4w7_NzR"
      },
      "execution_count": null,
      "outputs": []
    },
    {
      "cell_type": "markdown",
      "source": [
        "Machine Learning Model"
      ],
      "metadata": {
        "id": "LZ-ucb-zASoE"
      }
    },
    {
      "cell_type": "code",
      "source": [
        "#applying Logistic regression\n",
        "from sklearn.linear_model import LogisticRegression\n",
        "model=LogisticRegression(random_state=0)\n"
      ],
      "metadata": {
        "id": "5pZwEt2eAOhy"
      },
      "execution_count": null,
      "outputs": []
    },
    {
      "cell_type": "code",
      "source": [
        "model.fit(x_train,y_train)\n",
        "y_model=model.predict(x_test)\n",
        "\n",
        "#checking model accuracy\n",
        "print(\"Training Accuracy: \",model.score(x_train,y_train))\n",
        "print(\"Testing Accuracy:\",model.score(x_test,y_test))"
      ],
      "metadata": {
        "id": "jveDuPeUBwMX"
      },
      "execution_count": null,
      "outputs": []
    },
    {
      "cell_type": "code",
      "source": [
        "#lets analyze the performance using confusion matrix\n",
        "from sklearn.metrics import confusion_matrix,classification_report\n",
        "cm=confusion_matrix(y_test,y_model)\n",
        "\n",
        "plt.rcParams['figure.figsize']=(3,3)\n",
        "sns.heatmap(cm,annot=True,cmap='Wistia',fmt='.8g')\n",
        "plt.show()\n",
        "\n",
        "print(\"classification report is:\\n\",classification_report(y_test,y_model))\n"
      ],
      "metadata": {
        "id": "0z5OCDGZ8vI2"
      },
      "execution_count": null,
      "outputs": []
    },
    {
      "cell_type": "markdown",
      "source": [
        "Prediction using gradient boosting"
      ],
      "metadata": {
        "id": "MEg0sCYgALqh"
      }
    },
    {
      "cell_type": "code",
      "source": [
        "#lets apply decision tree\n",
        "from sklearn.ensemble import GradientBoostingClassifier\n",
        "model=GradientBoostingClassifier()\n",
        "model.fit(x_train,y_train)\n",
        "\n",
        "y_pred=model.predict(x_test)\n",
        "\n",
        "print(\"Testing Accuracy:\",x_test,y_test)\n",
        "print(\"Training Accuracy:\",x_train,y_train)"
      ],
      "metadata": {
        "id": "O5HXjsYYAPyu"
      },
      "execution_count": null,
      "outputs": []
    },
    {
      "cell_type": "code",
      "source": [
        "#lets check the performance using confusion matrics\n",
        "from sklearn.metrics import confusion_matrix,classification_report\n",
        "cm1=confusion_matrix(y_test,y_pred)\n",
        "plt.rcParams['figure.figsize']=(5,5)\n",
        "sns.heatmap(cm1,annot=True,cmap='Wistia',fmt='0.08g')\n",
        "plt.show()\n",
        "\n",
        "cr=classification_report(y_test,y_pred)\n",
        "print(cr)"
      ],
      "metadata": {
        "id": "mXtva8D4BxsA"
      },
      "execution_count": null,
      "outputs": []
    }
  ]
}