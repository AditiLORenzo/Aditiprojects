{
  "nbformat": 4,
  "nbformat_minor": 0,
  "metadata": {
    "colab": {
      "private_outputs": true,
      "provenance": [],
      "authorship_tag": "ABX9TyNnChYf9CCSlmhrKtLsxIhW",
      "include_colab_link": true
    },
    "kernelspec": {
      "name": "python3",
      "display_name": "Python 3"
    },
    "language_info": {
      "name": "python"
    }
  },
  "cells": [
    {
      "cell_type": "markdown",
      "metadata": {
        "id": "view-in-github",
        "colab_type": "text"
      },
      "source": [
        "<a href=\"https://colab.research.google.com/github/AditiLORenzo/Aditiprojects/blob/main/Linear_regression.ipynb\" target=\"_parent\"><img src=\"https://colab.research.google.com/assets/colab-badge.svg\" alt=\"Open In Colab\"/></a>"
      ]
    },
    {
      "cell_type": "code",
      "execution_count": null,
      "metadata": {
        "id": "9F2621WAWGeN"
      },
      "outputs": [],
      "source": [
        "import pandas as pd\n",
        "import numpy as np\n",
        "import seaborn as sns\n",
        "import matplotlib.pyplot as plt\n"
      ]
    },
    {
      "cell_type": "code",
      "source": [
        "data=pd.read_excel(\"/content/insurance 2.xlsx\")\n",
        "data.head()"
      ],
      "metadata": {
        "id": "XJprK08oWhip"
      },
      "execution_count": null,
      "outputs": []
    },
    {
      "cell_type": "code",
      "source": [
        "data.shape"
      ],
      "metadata": {
        "id": "o5P4iHs7XcYe"
      },
      "execution_count": null,
      "outputs": []
    },
    {
      "cell_type": "code",
      "source": [
        "data.info()"
      ],
      "metadata": {
        "id": "MEnuNyVnXjUS"
      },
      "execution_count": null,
      "outputs": []
    },
    {
      "cell_type": "markdown",
      "source": [
        "Feature correlation"
      ],
      "metadata": {
        "id": "4ulNx0QesFLY"
      }
    },
    {
      "cell_type": "code",
      "source": [
        "fig,ax=plt.subplots(figsize=(10,10))\n",
        "\n",
        "corr=data.corr()\n",
        "sns.heatmap(corr,annot=True,ax=ax)"
      ],
      "metadata": {
        "id": "uD8oGio7sU7F"
      },
      "execution_count": null,
      "outputs": []
    },
    {
      "cell_type": "code",
      "source": [
        "import pickle\n",
        "def save_object(obj , name):\n",
        "    pickle_obj = open(f\"{name}.pck\",\"wb\")\n",
        "    pickle.dump(obj, pickle_obj)\n",
        "    pickle_obj.close()"
      ],
      "metadata": {
        "id": "eCUd69Mv8OMT"
      },
      "execution_count": null,
      "outputs": []
    },
    {
      "cell_type": "markdown",
      "source": [
        "Label encode Object Type"
      ],
      "metadata": {
        "id": "I0F98bQNuvha"
      }
    },
    {
      "cell_type": "code",
      "source": [
        "d_types=dict(data.dtypes)\n",
        "for name,type_ in d_types.items(): \n",
        "   if str(type_)=='object':\n",
        "     print(f\"<===={name}===>\")\n",
        "     print(data[name].value_counts())\n",
        "     print()"
      ],
      "metadata": {
        "id": "keafu35Yu1pd"
      },
      "execution_count": null,
      "outputs": []
    },
    {
      "cell_type": "code",
      "source": [
        "dict(data['region'].value_counts())"
      ],
      "metadata": {
        "id": "cvlc0v81xgTK"
      },
      "execution_count": null,
      "outputs": []
    },
    {
      "cell_type": "code",
      "source": [
        "from sklearn.preprocessing import LabelEncoder\n",
        "for name,type_ in d_types.items():\n",
        "   if str(type_)=='object':\n",
        "      le=LabelEncoder()\n",
        "      data[name]=le.fit_transform(data[name])\n",
        "      save_object(le , f\"Label_Encoder_{name}\")"
      ],
      "metadata": {
        "id": "OwWlOMeJ8-qU"
      },
      "execution_count": null,
      "outputs": []
    },
    {
      "cell_type": "markdown",
      "source": [
        "Check info after label encoding"
      ],
      "metadata": {
        "id": "f_wsaDI1xCqB"
      }
    },
    {
      "cell_type": "code",
      "source": [
        "data.info()"
      ],
      "metadata": {
        "id": "tJ8BnXVLw_jt"
      },
      "execution_count": null,
      "outputs": []
    },
    {
      "cell_type": "markdown",
      "source": [
        "One hot Encoding"
      ],
      "metadata": {
        "id": "vPRZh1rb1VfV"
      }
    },
    {
      "cell_type": "code",
      "source": [
        "from sklearn.preprocessing import OneHotEncoder\n",
        "onehotencoder=OneHotEncoder()"
      ],
      "metadata": {
        "id": "pOvnDaHk1X80"
      },
      "execution_count": null,
      "outputs": []
    },
    {
      "cell_type": "code",
      "source": [
        "part=onehotencoder.fit_transform(data['region'].values.reshape(-1,1)).toarray()\n",
        "value=dict(data['region'].value_counts())"
      ],
      "metadata": {
        "id": "4L0norCMwugf"
      },
      "execution_count": null,
      "outputs": []
    },
    {
      "cell_type": "code",
      "source": [
        "print(part)"
      ],
      "metadata": {
        "id": "4NT2enDS4-H2"
      },
      "execution_count": null,
      "outputs": []
    },
    {
      "cell_type": "code",
      "source": [
        "value.items()"
      ],
      "metadata": {
        "id": "_LmHdAXP35Kc"
      },
      "execution_count": null,
      "outputs": []
    },
    {
      "cell_type": "code",
      "source": [
        "for gig in enumerate(value.items()):\n",
        "   print(gig)\n",
        "  # print(e)"
      ],
      "metadata": {
        "id": "HrnQvtzK3MDa"
      },
      "execution_count": null,
      "outputs": []
    },
    {
      "cell_type": "code",
      "source": [
        "for e , (val , _) in enumerate(value.items()):\n",
        "    data[\"region_\" + str(val)] = part[:,e]\n",
        "  # print(_)\n"
      ],
      "metadata": {
        "id": "VWv9BkJs3vNv"
      },
      "execution_count": null,
      "outputs": []
    },
    {
      "cell_type": "code",
      "source": [
        "data=data.drop([\"region\"],axis=1)"
      ],
      "metadata": {
        "id": "dcabEnz7DcZn"
      },
      "execution_count": null,
      "outputs": []
    },
    {
      "cell_type": "code",
      "source": [
        "data.head()"
      ],
      "metadata": {
        "id": "1vyAwtWXDlAt"
      },
      "execution_count": null,
      "outputs": []
    },
    {
      "cell_type": "markdown",
      "source": [
        "Handle skewness in predictive column"
      ],
      "metadata": {
        "id": "NyoycQ18X8JK"
      }
    },
    {
      "cell_type": "code",
      "source": [
        "orginal_y=data['expenses'].values.copy()"
      ],
      "metadata": {
        "id": "I4mqXA0HXp7f"
      },
      "execution_count": null,
      "outputs": []
    },
    {
      "cell_type": "code",
      "source": [
        "orginal_y"
      ],
      "metadata": {
        "id": "ThN9NqPHYdEn"
      },
      "execution_count": null,
      "outputs": []
    },
    {
      "cell_type": "code",
      "source": [
        "print(\"print data skewness :\", data['expenses'].skew())\n",
        "plt.hist(data['expenses'])\n",
        "plt.show()"
      ],
      "metadata": {
        "id": "IoHn8g4bYx_D"
      },
      "execution_count": null,
      "outputs": []
    },
    {
      "cell_type": "code",
      "source": [
        "col_log=np.log(data[\"expenses\"])\n",
        "print(\"Skewness in column: Log Expenses\",col_log.skew())\n",
        "plt.hist(col_log)\n",
        "plt.show()"
      ],
      "metadata": {
        "id": "zDGBVNwMZ3pZ"
      },
      "execution_count": null,
      "outputs": []
    },
    {
      "cell_type": "code",
      "source": [
        "col_sqrt=np.sqrt(data[\"expenses\"])\n",
        "print(\"skewnes in column:sqrt expenses\",col_sqrt.skew())\n",
        "plt.hist(col_sqrt)\n",
        "plt.show()"
      ],
      "metadata": {
        "id": "TVnwzNLQbZ-l"
      },
      "execution_count": null,
      "outputs": []
    },
    {
      "cell_type": "code",
      "source": [
        "from scipy import stats\n",
        "col_cox,lam=stats.boxcox(data['expenses'])[0:2]\n",
        "save_object(lam,\"boxcox_lambda\")\n",
        "plt.hist(col_cox)\n",
        "plt.show()"
      ],
      "metadata": {
        "id": "qbDbwKIodNMX"
      },
      "execution_count": null,
      "outputs": []
    },
    {
      "cell_type": "markdown",
      "source": [
        "Make features and target"
      ],
      "metadata": {
        "id": "AuYGFpJlhJnr"
      }
    },
    {
      "cell_type": "code",
      "source": [
        "remaining_columns=list(data.columns)\n",
        "remaining_columns.remove(\"expenses\")"
      ],
      "metadata": {
        "id": "1iF7p5NMhRBL"
      },
      "execution_count": null,
      "outputs": []
    },
    {
      "cell_type": "code",
      "source": [
        "save_object(remaining_columns , \"columns\")"
      ],
      "metadata": {
        "id": "Vunwy8LTj-HA"
      },
      "execution_count": null,
      "outputs": []
    },
    {
      "cell_type": "code",
      "source": [
        "X=data[remaining_columns].values\n",
        "Y=data['expenses'].values"
      ],
      "metadata": {
        "id": "BPMHOGWFozxI"
      },
      "execution_count": null,
      "outputs": []
    },
    {
      "cell_type": "code",
      "source": [
        "from sklearn.model_selection import train_test_split\n",
        "from sklearn.preprocessing import StandardScaler"
      ],
      "metadata": {
        "id": "vZYab6caphpy"
      },
      "execution_count": null,
      "outputs": []
    },
    {
      "cell_type": "code",
      "source": [
        "X_train,X_test,Y_train,Y_test=train_test_split(X,Y,test_size=0.4,random_state=4)\n",
        "scaler=StandardScaler()\n",
        "\n"
      ],
      "metadata": {
        "id": "W97kE817qImk"
      },
      "execution_count": null,
      "outputs": []
    },
    {
      "cell_type": "code",
      "source": [
        "X_train=scaler.fit_transform(X_train)\n",
        "X_test=scaler.transform(X_test)\n",
        "save_object(scaler , \"Scaler\")"
      ],
      "metadata": {
        "id": "M21_bPV1ra6n"
      },
      "execution_count": null,
      "outputs": []
    },
    {
      "cell_type": "code",
      "source": [
        "#check wheather data is standarized or not\n",
        "plt.ylim(-1,1)\n",
        "mean=[]\n",
        "for i in range(X_train.shape[1]):\n",
        "    mean.append(np.mean(X_train[:,i]))\n",
        "plt.plot(mean,scaley=False)\n",
        "     #(np.mean(X_train[:,i]))"
      ],
      "metadata": {
        "id": "ghGikPOeu8Vb"
      },
      "execution_count": null,
      "outputs": []
    },
    {
      "cell_type": "code",
      "source": [
        "#check variance\n",
        "plt.ylim(0,2)\n",
        "var=[]\n",
        "for i in range(X_train.shape[1]):\n",
        "    var.append(np.var(X_train[:,i]))\n",
        "plt.plot(var)"
      ],
      "metadata": {
        "id": "gIW9uyaxxMfN"
      },
      "execution_count": null,
      "outputs": []
    },
    {
      "cell_type": "code",
      "source": [
        "np.mean\n",
        "   # plt.plot(mean,scaley=False)"
      ],
      "metadata": {
        "id": "7ZEmwcN2vTCS"
      },
      "execution_count": null,
      "outputs": []
    },
    {
      "cell_type": "code",
      "source": [
        "#col_cox"
      ],
      "metadata": {
        "id": "Xj8Se6g9d5Nm"
      },
      "execution_count": null,
      "outputs": []
    },
    {
      "cell_type": "code",
      "source": [
        "from sklearn.linear_model import LinearRegression,Ridge,Lasso,ElasticNet\n",
        "from sklearn.decomposition import PCA"
      ],
      "metadata": {
        "id": "JTe1A48C13UY"
      },
      "execution_count": null,
      "outputs": []
    },
    {
      "cell_type": "code",
      "source": [
        "pca=PCA(n_components=7)\n",
        "X_train=pca.fit_transform(X_train)\n",
        "X_test=pca.transform(X_test)"
      ],
      "metadata": {
        "id": "BZ5tuFLi2blJ"
      },
      "execution_count": null,
      "outputs": []
    },
    {
      "cell_type": "code",
      "source": [
        "pca.explained_variance_ratio_.cumsum()\n",
        "save_object(pca , \"PCA\")"
      ],
      "metadata": {
        "id": "9vlOYCMd23YY"
      },
      "execution_count": null,
      "outputs": []
    },
    {
      "cell_type": "markdown",
      "source": [
        "DEFINE METRICS"
      ],
      "metadata": {
        "id": "8H68QNts3CV9"
      }
    },
    {
      "cell_type": "code",
      "source": [],
      "metadata": {
        "id": "4msAiMOS3FHu"
      },
      "execution_count": null,
      "outputs": []
    },
    {
      "cell_type": "code",
      "source": [
        "def rmse_score(y_test , y_pred):\n",
        "    value = (1/len(y_test))*np.sum((y_test - y_pred)**2)\n",
        "    return np.sqrt(value)\n",
        "\n",
        "def r2_score(y_test , y_pred):\n",
        "    numenator = (1/len(y_test))*np.sum((y_test - y_pred)**2)\n",
        "    denominator = (1/len(y_test))*np.sum((y_test - np.mean(y_test))**2)\n",
        "    return (1 - (numenator/denominator))\n",
        "\n",
        "def mae(y_test , y_pred):\n",
        "    return (1/len(y_test))*np.sum(np.abs(y_test - y_pred))\n",
        "\n",
        "def adj_r2_score(y_test , y_pred , n_features):\n",
        "    numenator = (1-r2_score(y_test , y_pred))*(len(y_test) - 1)\n",
        "    denominator = len(y_test) - n_features - 1\n",
        "    return 1 - (numenator/denominator)"
      ],
      "metadata": {
        "id": "_9E7aPMIvbxk"
      },
      "execution_count": null,
      "outputs": []
    },
    {
      "cell_type": "code",
      "source": [
        "model=LinearRegression()\n",
        "model.fit(X_train,Y_train)\n",
        "ypred=model.predict(X_test)"
      ],
      "metadata": {
        "id": "yXQDAVHEtAxi"
      },
      "execution_count": null,
      "outputs": []
    },
    {
      "cell_type": "code",
      "source": [
        "print(\"LR model score\",model.score(X_train,Y_train))\n",
        "print(\"LR model score\",model.score(X_test,Y_test))"
      ],
      "metadata": {
        "id": "X0r-Z3qLxSlO"
      },
      "execution_count": null,
      "outputs": []
    },
    {
      "cell_type": "code",
      "source": [
        "rmse_score(Y_test,ypred)"
      ],
      "metadata": {
        "id": "xaaTjT5LtlLd"
      },
      "execution_count": null,
      "outputs": []
    },
    {
      "cell_type": "code",
      "source": [
        "r2_score(Y_test,ypred)"
      ],
      "metadata": {
        "id": "N_LLAW9quUj7"
      },
      "execution_count": null,
      "outputs": []
    },
    {
      "cell_type": "code",
      "source": [
        "mae(Y_test,ypred)"
      ],
      "metadata": {
        "id": "wQRbelSTvJ88"
      },
      "execution_count": null,
      "outputs": []
    },
    {
      "cell_type": "markdown",
      "source": [
        "##Regularization"
      ],
      "metadata": {
        "id": "7dD5S_qPnUIr"
      }
    },
    {
      "cell_type": "code",
      "source": [
        "model1=Ridge()\n",
        "model1.fit(X_train,Y_train)"
      ],
      "metadata": {
        "id": "3iV-MmJaxAQF"
      },
      "execution_count": null,
      "outputs": []
    },
    {
      "cell_type": "code",
      "source": [
        "#training and testing accuracy\n",
        "print(\"Training accuracy:\",model1.score(X_train,Y_train))\n",
        "print(\"Testing accuracy:\",model1.score(X_test,Y_test))\n"
      ],
      "metadata": {
        "id": "M9KHWPykoGbb"
      },
      "execution_count": null,
      "outputs": []
    },
    {
      "cell_type": "code",
      "source": [
        "#Lasso\n",
        "model2=Lasso()\n",
        "model2.fit(X_train,Y_train)\n",
        "print(\"Training accuracy\",model2.score(X_train,Y_train))\n",
        "print(\"Testin accuracy\",model2.score(X_test,Y_test))"
      ],
      "metadata": {
        "id": "2T7QGrpHpnTb"
      },
      "execution_count": null,
      "outputs": []
    },
    {
      "cell_type": "code",
      "source": [
        "#Elastic net\n",
        "model3=ElasticNet()\n",
        "model3.fit(X_train,Y_train)\n",
        "print(\"Training accuracy\",model3.score(X_train,Y_train))\n",
        "print(\"Testin accuracy\",model3.score(X_test,Y_test))\n"
      ],
      "metadata": {
        "id": "3Z2bb3HVq6A9"
      },
      "execution_count": null,
      "outputs": []
    },
    {
      "cell_type": "markdown",
      "source": [
        "###changing Parameter for elastic and Lasso"
      ],
      "metadata": {
        "id": "OEDSW9wyrg4f"
      }
    },
    {
      "cell_type": "code",
      "source": [
        "model4=Lasso(alpha=0.02)\n",
        "model4.fit(X_train,Y_train)\n",
        "print(\"Training accuracy\",model4.score(X_train,Y_train))\n",
        "print(\"Testin accuracy\",model4.score(X_test,Y_test))"
      ],
      "metadata": {
        "id": "atPOrh4nrqgJ"
      },
      "execution_count": null,
      "outputs": []
    },
    {
      "cell_type": "markdown",
      "source": [],
      "metadata": {
        "id": "gJ7FsveQWHC5"
      }
    }
  ]
}