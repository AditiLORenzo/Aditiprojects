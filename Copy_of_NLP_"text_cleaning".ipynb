{
  "nbformat": 4,
  "nbformat_minor": 0,
  "metadata": {
    "colab": {
      "private_outputs": true,
      "provenance": [],
      "collapsed_sections": [],
      "authorship_tag": "ABX9TyN8DDPaXqxjUS8Z7w1CR1H2",
      "include_colab_link": true
    },
    "kernelspec": {
      "name": "python3",
      "display_name": "Python 3"
    },
    "language_info": {
      "name": "python"
    }
  },
  "cells": [
    {
      "cell_type": "markdown",
      "metadata": {
        "id": "view-in-github",
        "colab_type": "text"
      },
      "source": [
        "<a href=\"https://colab.research.google.com/github/AditiLORenzo/Aditiprojects/blob/main/Copy_of_NLP_%22text_cleaning%22.ipynb\" target=\"_parent\"><img src=\"https://colab.research.google.com/assets/colab-badge.svg\" alt=\"Open In Colab\"/></a>"
      ]
    },
    {
      "cell_type": "code",
      "execution_count": null,
      "metadata": {
        "id": "IjZTGPq6Eic2"
      },
      "outputs": [],
      "source": [
        "import pandas as pd\n",
        "import numpy as np\n",
        "import re"
      ]
    },
    {
      "cell_type": "code",
      "source": [
        "text_data = pd.read_csv(\"/content/news_syn (2).csv\")\n",
        "text_data1=text_data.copy()\n",
        "text_data"
      ],
      "metadata": {
        "id": "wSF6sVFFoD58"
      },
      "execution_count": null,
      "outputs": []
    },
    {
      "cell_type": "code",
      "source": [
        "from pandas.core.arrays import string_\n",
        "def lower_case(x):\n",
        "    ans = x.lower()\n",
        "    return ans\n",
        "\n",
        "#def remove_punctuation(x):\n",
        "    #PUNCT_TO_REMOVE = string_.punctuation\n",
        "    #ans = x.translate(str.maketrans(\",\",PUNCT_TO_REMOVE))\n",
        "    #return ans  \n",
        "\n",
        "def remove_numbers(x):\n",
        "    ans = ''.join([i for i in x if not i.isdigit()])\n",
        "    return ans    \n",
        "\n",
        "def remove_extraspace(x):\n",
        "    ans = \" \".join(x.split())\n",
        "    return ans \n",
        "\n",
        "def remove_emoji(x):\n",
        "    emoji_pattern = re.compile(\"[\"\n",
        "                           u\"U0001F600-U0001F64F\"  # emoticons\n",
        "                           u\"U0001F300-U0001F5FF\"  # symbols & pictographs\n",
        "                           u\"U0001F680-U0001F6FF\"  # transport & map symbols\n",
        "                           u\"U0001F1E0-U0001F1FF\"  # flags (iOS)\n",
        "                           u\"U00002702-U000027B0\"\n",
        "                           u\"U000024C2-U0001F251\"\n",
        "                           \"]+\", flags=re.UNICODE)\n",
        "    return emoji_pattern.sub(r'', x)\n",
        "\n",
        "\n",
        "\n",
        "def replace_repettion(x):\n",
        "    ans = re.sub(r'(!)1+', '', x)\n",
        "    return ans \n",
        "\n",
        "def remove_punctuation(x):\n",
        "    import re    \n",
        "    ans = re.sub(r'(!|.)1+', '', x) \n",
        "    return ans     \n",
        "\n",
        "!pip install contractions\n",
        "import contractions\n",
        "def contraction_fun(x):\n",
        "    ans=contractions.fix(x)\n",
        "    return ans\n",
        "\n",
        "def get_all(x):\n",
        "    y=lower_case(x)\n",
        "    m=remove_punctuation(y)\n",
        "    p=remove_numbers(m)\n",
        "    n=remove_extraspace(p)\n",
        "    z=replace_repettion(n)\n",
        "    return z\n",
        "     \n",
        "\n",
        "\n",
        "\n",
        "\n",
        "      \n",
        "\n",
        "    "
      ],
      "metadata": {
        "id": "h5GlK79SxZMF"
      },
      "execution_count": null,
      "outputs": []
    },
    {
      "cell_type": "code",
      "source": [
        "text=text_data[\"short_description\"]\n",
        "text1=text.dropna()"
      ],
      "metadata": {
        "id": "v2jUB_hZ8z66"
      },
      "execution_count": null,
      "outputs": []
    },
    {
      "cell_type": "code",
      "source": [
        "textlst=text1.values.tolist()\n"
      ],
      "metadata": {
        "id": "JtMS1ehb9i13"
      },
      "execution_count": null,
      "outputs": []
    },
    {
      "cell_type": "code",
      "source": [
        "textlst"
      ],
      "metadata": {
        "id": "D9qXssNsIQF1"
      },
      "execution_count": null,
      "outputs": []
    },
    {
      "cell_type": "code",
      "source": [
        "length=len(textlst)"
      ],
      "metadata": {
        "id": "xUh4VV9A9_0c"
      },
      "execution_count": null,
      "outputs": []
    },
    {
      "cell_type": "markdown",
      "source": [
        "Text cleaned:"
      ],
      "metadata": {
        "id": "dfgyNDruLUqz"
      }
    },
    {
      "cell_type": "code",
      "source": [
        "for i in range(length):\n",
        "    f=textlst[i]\n",
        "    m=lower_case(f)\n",
        "    p=remove_numbers(m)\n",
        "    h=remove_extraspace(p)\n",
        "    q=replace_repettion(h)\n",
        "    o=contraction_fun(q)\n",
        "    a=remove_emoji(o)\n",
        "    s=remove_punctuation(a)\n",
        "    i+=i\n",
        "    print(s)\n",
        "\n",
        "  \n",
        "   \n",
        "\n",
        "    "
      ],
      "metadata": {
        "id": "gmHja74I9_7g"
      },
      "execution_count": null,
      "outputs": []
    }
  ]
}