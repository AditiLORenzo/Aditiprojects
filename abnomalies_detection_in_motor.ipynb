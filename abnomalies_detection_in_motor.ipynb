{
  "nbformat": 4,
  "nbformat_minor": 0,
  "metadata": {
    "colab": {
      "private_outputs": true,
      "provenance": [],
      "authorship_tag": "ABX9TyM2MVcfAakJaGZLhblvBdQ4",
      "include_colab_link": true
    },
    "kernelspec": {
      "name": "python3",
      "display_name": "Python 3"
    },
    "language_info": {
      "name": "python"
    }
  },
  "cells": [
    {
      "cell_type": "markdown",
      "metadata": {
        "id": "view-in-github",
        "colab_type": "text"
      },
      "source": [
        "<a href=\"https://colab.research.google.com/github/AditiLORenzo/Aditiprojects/blob/main/abnomalies_detection_in_motor.ipynb\" target=\"_parent\"><img src=\"https://colab.research.google.com/assets/colab-badge.svg\" alt=\"Open In Colab\"/></a>"
      ]
    },
    {
      "cell_type": "markdown",
      "source": [
        "data set"
      ],
      "metadata": {
        "id": "ElVkkSk7Bpil"
      }
    },
    {
      "cell_type": "code",
      "execution_count": null,
      "metadata": {
        "id": "qO6ozjh1Bkv0"
      },
      "outputs": [],
      "source": [
        "import pandas as pd"
      ]
    },
    {
      "cell_type": "code",
      "source": [
        "import numpy as np"
      ],
      "metadata": {
        "id": "Fa7Y6dhtHeYg"
      },
      "execution_count": null,
      "outputs": []
    },
    {
      "cell_type": "code",
      "source": [
        "#df = pd.read_csv(\"/content/data0 (1).txt\", sep=\",\", header=None)"
      ],
      "metadata": {
        "id": "NGI-wwTR2lus"
      },
      "execution_count": null,
      "outputs": []
    },
    {
      "cell_type": "code",
      "source": [
        "#df"
      ],
      "metadata": {
        "id": "WvNjgRI1EKZ2"
      },
      "execution_count": null,
      "outputs": []
    },
    {
      "cell_type": "code",
      "source": [
        "#df.isnull().sum()"
      ],
      "metadata": {
        "id": "4tjPyOfAvM0c"
      },
      "execution_count": null,
      "outputs": []
    },
    {
      "cell_type": "code",
      "source": [
        "#df=df.drop([10000],axis=1)"
      ],
      "metadata": {
        "id": "xJJ-rLvOfKqC"
      },
      "execution_count": null,
      "outputs": []
    },
    {
      "cell_type": "code",
      "source": [
        "#df"
      ],
      "metadata": {
        "id": "1fUSx1_HAVDg"
      },
      "execution_count": null,
      "outputs": []
    },
    {
      "cell_type": "code",
      "source": [
        "#inpx=df.iloc[:,:]"
      ],
      "metadata": {
        "id": "AJCB85spx4jy"
      },
      "execution_count": null,
      "outputs": []
    },
    {
      "cell_type": "code",
      "source": [
        "#df"
      ],
      "metadata": {
        "id": "aVmZ7ZF6fhRY"
      },
      "execution_count": null,
      "outputs": []
    },
    {
      "cell_type": "code",
      "source": [
        "#df.to_excel('data.xlsx', index = True)"
      ],
      "metadata": {
        "id": "k3ddcl_j3TzA"
      },
      "execution_count": null,
      "outputs": []
    },
    {
      "cell_type": "code",
      "source": [
        "data = pd.read_excel(\"/content/data1.xlsx\")"
      ],
      "metadata": {
        "id": "mjrFlCC37Vsh"
      },
      "execution_count": null,
      "outputs": []
    },
    {
      "cell_type": "code",
      "source": [
        "data"
      ],
      "metadata": {
        "id": "NCrrEoTv-Odn"
      },
      "execution_count": null,
      "outputs": []
    },
    {
      "cell_type": "code",
      "source": [
        "#data=data['Hour'].reset_index"
      ],
      "metadata": {
        "id": "rIXnH6VjjENi"
      },
      "execution_count": null,
      "outputs": []
    },
    {
      "cell_type": "code",
      "source": [
        "data"
      ],
      "metadata": {
        "id": "KPXT2L4kjQNZ"
      },
      "execution_count": null,
      "outputs": []
    },
    {
      "cell_type": "markdown",
      "source": [
        "##Checking Missing values"
      ],
      "metadata": {
        "id": "V3Z5Vt2-_Gxi"
      }
    },
    {
      "cell_type": "code",
      "source": [
        "data.isnull().sum()"
      ],
      "metadata": {
        "id": "Mj8x7ybd8JKe"
      },
      "execution_count": null,
      "outputs": []
    },
    {
      "cell_type": "code",
      "source": [
        "#data['Amp']"
      ],
      "metadata": {
        "id": "cqIY-hQCtVub"
      },
      "execution_count": null,
      "outputs": []
    },
    {
      "cell_type": "markdown",
      "source": [
        "##Abnomalies detection"
      ],
      "metadata": {
        "id": "CIKVoZpk73EZ"
      }
    },
    {
      "cell_type": "code",
      "source": [
        "from sklearn.ensemble import IsolationForest\n",
        "isolation_forest = IsolationForest(n_estimators=1000, contamination=0.08)\n",
        "isolation_forest.fit(data['Amp'].values.reshape(-1, 1))\n",
        "data['anomaly_score_rate'] = isolation_forest.decision_function(data['Amp'].values.reshape(-1, 1))\n",
        "data['outlier_univariate_rate'] = isolation_forest.predict(data['Amp'].values.reshape(-1, 1))"
      ],
      "metadata": {
        "id": "eDhESgdfH-Ad"
      },
      "execution_count": null,
      "outputs": []
    },
    {
      "cell_type": "code",
      "source": [
        "data.value_counts()"
      ],
      "metadata": {
        "id": "f1wcgzAcAr8n"
      },
      "execution_count": null,
      "outputs": []
    },
    {
      "cell_type": "markdown",
      "source": [
        "##According the value 0 anomaly score is very highest and 128 is second highest so we consider 0 and 128  as our anomalies and rest as non anomaly values"
      ],
      "metadata": {
        "id": "I51dY-uLMIBf"
      }
    },
    {
      "cell_type": "markdown",
      "source": [
        "###converting categorical values to binary number"
      ],
      "metadata": {
        "id": "AKsDNHnvl756"
      }
    },
    {
      "cell_type": "markdown",
      "source": [
        "###taking anomalies as 0 and non anamolies as 1"
      ],
      "metadata": {
        "id": "oDLYXBVDNnql"
      }
    },
    {
      "cell_type": "code",
      "source": [
        "data['Amp'] = data['Amp'].replace((120, 128, 248,0),(1,1,0,0))"
      ],
      "metadata": {
        "id": "2CetfJGgmBTJ"
      },
      "execution_count": null,
      "outputs": []
    },
    {
      "cell_type": "code",
      "source": [
        "data"
      ],
      "metadata": {
        "id": "zenqqsguNE3i"
      },
      "execution_count": null,
      "outputs": []
    },
    {
      "cell_type": "code",
      "source": [
        "#data['Amp'].value_counts()"
      ],
      "metadata": {
        "id": "tP1VJsNenbdW"
      },
      "execution_count": null,
      "outputs": []
    },
    {
      "cell_type": "markdown",
      "source": [
        "###train and test"
      ],
      "metadata": {
        "id": "3w67jmu1iBmM"
      }
    },
    {
      "cell_type": "code",
      "source": [
        "X = data['Hour'].values\n",
        "#y = df.iloc[:,-1]"
      ],
      "metadata": {
        "id": "ADHpaaCtEe_W"
      },
      "execution_count": null,
      "outputs": []
    },
    {
      "cell_type": "code",
      "source": [
        "X"
      ],
      "metadata": {
        "id": "dzbr7iGku-IS"
      },
      "execution_count": null,
      "outputs": []
    },
    {
      "cell_type": "code",
      "source": [
        "#X_train=X.values"
      ],
      "metadata": {
        "id": "jklXCDQ2yHHH"
      },
      "execution_count": null,
      "outputs": []
    },
    {
      "cell_type": "code",
      "source": [
        "#X_train.shape"
      ],
      "metadata": {
        "id": "XEnRVfUtyMQs"
      },
      "execution_count": null,
      "outputs": []
    },
    {
      "cell_type": "code",
      "source": [
        "Y=data['Amp'].values"
      ],
      "metadata": {
        "id": "JFedUWDovDmY"
      },
      "execution_count": null,
      "outputs": []
    },
    {
      "cell_type": "code",
      "source": [
        "Y"
      ],
      "metadata": {
        "id": "J7JQ9oxVzCU0"
      },
      "execution_count": null,
      "outputs": []
    },
    {
      "cell_type": "code",
      "source": [
        "X=X.reshape(-1,1)\n",
        "Y=Y.reshape(-1,1)"
      ],
      "metadata": {
        "id": "qlkZNY9Tu0v5"
      },
      "execution_count": null,
      "outputs": []
    },
    {
      "cell_type": "code",
      "source": [
        "#y_train=Y.values"
      ],
      "metadata": {
        "id": "75rQQDmcvJVF"
      },
      "execution_count": null,
      "outputs": []
    },
    {
      "cell_type": "code",
      "source": [
        "#y_train.shape"
      ],
      "metadata": {
        "id": "o-EPzl-DyQgn"
      },
      "execution_count": null,
      "outputs": []
    },
    {
      "cell_type": "code",
      "source": [
        "#y=df.iloc[:,-1]"
      ],
      "metadata": {
        "id": "RT_U6R-9zRM4"
      },
      "execution_count": null,
      "outputs": []
    },
    {
      "cell_type": "code",
      "source": [
        "#y"
      ],
      "metadata": {
        "id": "uCZEjX1z1KDA"
      },
      "execution_count": null,
      "outputs": []
    },
    {
      "cell_type": "code",
      "source": [
        "#y.shape"
      ],
      "metadata": {
        "id": "PV9rytIG1_nN"
      },
      "execution_count": null,
      "outputs": []
    },
    {
      "cell_type": "code",
      "source": [
        "#y_test=y.values"
      ],
      "metadata": {
        "id": "nbcntGUqzllK"
      },
      "execution_count": null,
      "outputs": []
    },
    {
      "cell_type": "code",
      "source": [
        "#y_test"
      ],
      "metadata": {
        "id": "eoEjHicF0TB3"
      },
      "execution_count": null,
      "outputs": []
    },
    {
      "cell_type": "code",
      "source": [
        "#gfg = y_test\n",
        "   # print(gfg)\n",
        " \n",
        "    # checking current shape\n",
        "   # print('current shape of the array')\n",
        "    #print(gfg.shape)\n",
        "     \n",
        "    # modifying array according to new dimensions\n",
        "    #print('changing shape to 2,2')\n",
        "#gfg.shape = (2, 2)"
      ],
      "metadata": {
        "id": "PT83v2Ch0Zv3"
      },
      "execution_count": null,
      "outputs": []
    },
    {
      "cell_type": "code",
      "source": [
        "import matplotlib.pyplot as plt\n",
        "import seaborn as sns\n",
        "from xgboost import XGBClassifier\n",
        "from sklearn.model_selection import train_test_split"
      ],
      "metadata": {
        "id": "oPoqv8owx2yD"
      },
      "execution_count": null,
      "outputs": []
    },
    {
      "cell_type": "code",
      "source": [
        "X_train, X_test, y_train, y_test = train_test_split(X,Y,test_size=0.4, random_state=0)"
      ],
      "metadata": {
        "id": "YQO_A5Xxx1B5"
      },
      "execution_count": null,
      "outputs": []
    },
    {
      "cell_type": "code",
      "source": [
        "X_train.shape"
      ],
      "metadata": {
        "id": "F9ce6PHskQ7U"
      },
      "execution_count": null,
      "outputs": []
    },
    {
      "cell_type": "code",
      "source": [
        "y_train.shape"
      ],
      "metadata": {
        "id": "b4IGAV_nkQ-v"
      },
      "execution_count": null,
      "outputs": []
    },
    {
      "cell_type": "code",
      "source": [
        "classifier = XGBClassifier(booster='gbtree',eta=0.3,max_depth=6,seed=0)\n",
        "classifier.fit(X_train,y_train)"
      ],
      "metadata": {
        "id": "_kn6sEzUyiaj"
      },
      "execution_count": null,
      "outputs": []
    },
    {
      "cell_type": "code",
      "source": [
        "y_predict = classifier.predict(y_test)\n",
        "y_predict"
      ],
      "metadata": {
        "id": "dZJdnjuqyoi4"
      },
      "execution_count": null,
      "outputs": []
    },
    {
      "cell_type": "code",
      "source": [
        "y_tes=pd.DataFrame(y_test)"
      ],
      "metadata": {
        "id": "4XE3QTOvOzMw"
      },
      "execution_count": null,
      "outputs": []
    },
    {
      "cell_type": "code",
      "source": [
        "y_tes.value_counts()"
      ],
      "metadata": {
        "id": "0uLGthL4PBDM"
      },
      "execution_count": null,
      "outputs": []
    },
    {
      "cell_type": "code",
      "source": [
        "y_pre=pd.DataFrame(y_predict)"
      ],
      "metadata": {
        "id": "ufW1WNj9OKOf"
      },
      "execution_count": null,
      "outputs": []
    },
    {
      "cell_type": "code",
      "source": [
        "y_pre.value_counts()"
      ],
      "metadata": {
        "id": "21GRA7OUOa8x"
      },
      "execution_count": null,
      "outputs": []
    },
    {
      "cell_type": "code",
      "source": [
        "from sklearn.metrics import classification_report,accuracy_score\n",
        "print(accuracy_score(y_test,y_predict))\n",
        "print(classification_report(y_test,y_predict))"
      ],
      "metadata": {
        "id": "ma6oZy8_vfU8"
      },
      "execution_count": null,
      "outputs": []
    }
  ]
}