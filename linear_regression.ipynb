{
  "nbformat": 4,
  "nbformat_minor": 0,
  "metadata": {
    "colab": {
      "private_outputs": true,
      "provenance": [],
      "collapsed_sections": [],
      "authorship_tag": "ABX9TyNZ/K/BeZGiqbs5jpPcFqZN",
      "include_colab_link": true
    },
    "kernelspec": {
      "name": "python3",
      "display_name": "Python 3"
    },
    "language_info": {
      "name": "python"
    }
  },
  "cells": [
    {
      "cell_type": "markdown",
      "metadata": {
        "id": "view-in-github",
        "colab_type": "text"
      },
      "source": [
        "<a href=\"https://colab.research.google.com/github/AditiLORenzo/Aditiprojects/blob/main/linear_regression.ipynb\" target=\"_parent\"><img src=\"https://colab.research.google.com/assets/colab-badge.svg\" alt=\"Open In Colab\"/></a>"
      ]
    },
    {
      "cell_type": "markdown",
      "source": [
        "basic imports"
      ],
      "metadata": {
        "id": "7WR6_FNvpDiP"
      }
    },
    {
      "cell_type": "code",
      "source": [
        "import pandas as pd\n",
        "import numpy as np\n",
        "import matplotlib.pyplot as plt\n",
        "import seaborn as sns "
      ],
      "metadata": {
        "id": "_BK3mCi7qjNB"
      },
      "execution_count": null,
      "outputs": []
    },
    {
      "cell_type": "markdown",
      "source": [
        "load data set"
      ],
      "metadata": {
        "id": "tz_9pkbSrG2G"
      }
    },
    {
      "cell_type": "code",
      "source": [
        "data=pd.read_excel(\"/content/insurance.xlsx\")\n",
        "data.head(7)"
      ],
      "metadata": {
        "id": "1KhpHjMOrAs7"
      },
      "execution_count": null,
      "outputs": []
    },
    {
      "cell_type": "code",
      "source": [
        "data.shape"
      ],
      "metadata": {
        "id": "5n_gTDo0rkmU"
      },
      "execution_count": null,
      "outputs": []
    },
    {
      "cell_type": "code",
      "source": [
        "data.info()"
      ],
      "metadata": {
        "id": "szW-F2IBr0f_"
      },
      "execution_count": null,
      "outputs": []
    },
    {
      "cell_type": "markdown",
      "source": [
        "Check the feature correlations"
      ],
      "metadata": {
        "id": "Dew66yBor9we"
      }
    },
    {
      "cell_type": "code",
      "source": [
        "fig,ax=plt.subplots(figsize=(10,10))\n",
        "corr=data.corr()\n",
        "sns.heatmap(corr,annot=True,ax=ax)"
      ],
      "metadata": {
        "id": "NQKdqmxnsDDQ"
      },
      "execution_count": null,
      "outputs": []
    },
    {
      "cell_type": "markdown",
      "source": [
        "Label Encode Object Types"
      ],
      "metadata": {
        "id": "HjEjZv8ftIeX"
      }
    },
    {
      "cell_type": "code",
      "source": [
        "d_types=dict(data.dtypes) #forming dictionary with keys assigned as objects data type\n",
        "for name,type_ in d_types.items():\n",
        "    if str(type_)=='object':\n",
        "       print(f\"<===={name}=====>\")\n",
        "       print(data[name].value_counts())\n",
        "       print()"
      ],
      "metadata": {
        "id": "nI_xd-jvtNrJ"
      },
      "execution_count": null,
      "outputs": []
    },
    {
      "cell_type": "code",
      "source": [
        "d_types"
      ],
      "metadata": {
        "id": "dfyCNw5pt0NC"
      },
      "execution_count": null,
      "outputs": []
    },
    {
      "cell_type": "code",
      "source": [
        "from sklearn.preprocessing import LabelEncoder\n",
        "\n",
        "for name,type_ in d_types.items():\n",
        "    if str(type_)=='object':\n",
        "      Le=LabelEncoder()\n",
        "      data[name]=Le.fit_transform(data[name])"
      ],
      "metadata": {
        "id": "X979sUfGvXRD"
      },
      "execution_count": null,
      "outputs": []
    },
    {
      "cell_type": "markdown",
      "source": [
        "Check info after label encoding"
      ],
      "metadata": {
        "id": "xkkj1g3nxJMb"
      }
    },
    {
      "cell_type": "code",
      "source": [
        "data.info()"
      ],
      "metadata": {
        "id": "srJgCfzZxCrP"
      },
      "execution_count": null,
      "outputs": []
    },
    {
      "cell_type": "code",
      "source": [
        "x=data.iloc[:,:-1].values\n",
        "y=data.iloc[:,-1].values"
      ],
      "metadata": {
        "id": "B2KQ_wdmxYot"
      },
      "execution_count": null,
      "outputs": []
    },
    {
      "cell_type": "code",
      "source": [
        "x.shape,y.shape"
      ],
      "metadata": {
        "id": "L1xFsUJBzvqG"
      },
      "execution_count": null,
      "outputs": []
    },
    {
      "cell_type": "code",
      "source": [
        "from sklearn.model_selection import train_test_split\n",
        "\n",
        "xtrain,xtest,ytrain,ytest=train_test_split(x,y,test_size=0.2,random_state=4)"
      ],
      "metadata": {
        "id": "1pCb4Rh10YxV"
      },
      "execution_count": null,
      "outputs": []
    },
    {
      "cell_type": "code",
      "source": [
        "from sklearn.preprocessing import StandardScaler\n",
        "scaler=StandardScaler()\n",
        "xtrain=scaler.fit_transform(xtrain)\n",
        "xtest=scaler.transform(xtest)"
      ],
      "metadata": {
        "id": "F-8DmHXgz2Jz"
      },
      "execution_count": null,
      "outputs": []
    },
    {
      "cell_type": "code",
      "source": [
        "xtrain.shape,xtest.shape"
      ],
      "metadata": {
        "id": "od54gzV72AtP"
      },
      "execution_count": null,
      "outputs": []
    },
    {
      "cell_type": "code",
      "source": [
        "xtest"
      ],
      "metadata": {
        "id": "Ou755Gyz3en-"
      },
      "execution_count": null,
      "outputs": []
    },
    {
      "cell_type": "code",
      "source": [
        "xtest[:,-1]"
      ],
      "metadata": {
        "id": "tzVAqcMr4tkL"
      },
      "execution_count": null,
      "outputs": []
    },
    {
      "cell_type": "code",
      "source": [
        "x[1]"
      ],
      "metadata": {
        "id": "D5PQC7mS92NX"
      },
      "execution_count": null,
      "outputs": []
    },
    {
      "cell_type": "code",
      "source": [
        "#checking whether data is standarized or not\n",
        "#mean should be 1\n",
        "plt.ylim(-1,1)\n",
        "\n",
        "means=[]\n",
        "for i in range(x.shape[1]):\n",
        "    means.append(np.mean(xtest[:,i]))\n",
        "\n",
        "means    \n",
        "plt.plot(means,scaley=False)    "
      ],
      "metadata": {
        "id": "o0bWhZUj2HGJ"
      },
      "execution_count": null,
      "outputs": []
    },
    {
      "cell_type": "code",
      "source": [
        "plt.ylim(0,2)\n",
        "\n",
        "vars=[]\n",
        "for i in range(x.shape[1]):\n",
        "    vars.append(np.var(xtest[:,i]))\n",
        "plt.plot(vars)    \n"
      ],
      "metadata": {
        "id": "MX84-ntm7CaD"
      },
      "execution_count": null,
      "outputs": []
    },
    {
      "cell_type": "code",
      "source": [
        "from sklearn.linear_model import LinearRegression\n",
        "\n",
        "model=LinearRegression()\n",
        "model.fit(xtrain,ytrain)"
      ],
      "metadata": {
        "id": "UzRj9AOw8LcC"
      },
      "execution_count": null,
      "outputs": []
    },
    {
      "cell_type": "code",
      "source": [
        "model.coef_"
      ],
      "metadata": {
        "id": "L6-NQ9DI8hcx"
      },
      "execution_count": null,
      "outputs": []
    },
    {
      "cell_type": "code",
      "source": [
        "model.intercept_"
      ],
      "metadata": {
        "id": "TXto7O-Z8rXH"
      },
      "execution_count": null,
      "outputs": []
    },
    {
      "cell_type": "code",
      "source": [
        "xtest[10,-1:]"
      ],
      "metadata": {
        "id": "Sjqxj1NN9cQ5"
      },
      "execution_count": null,
      "outputs": []
    },
    {
      "cell_type": "code",
      "source": [
        "xtest[10,:]"
      ],
      "metadata": {
        "id": "SitYdShR9YB8"
      },
      "execution_count": null,
      "outputs": []
    },
    {
      "cell_type": "code",
      "source": [
        "model.coef_.dot(xtest[10,:])+model.intercept_\n"
      ],
      "metadata": {
        "id": "iG8HWtCa9Kzp"
      },
      "execution_count": null,
      "outputs": []
    },
    {
      "cell_type": "code",
      "source": [
        "model.predict(xtest[10,:])"
      ],
      "metadata": {
        "id": "93A-XBcB-OuF"
      },
      "execution_count": null,
      "outputs": []
    },
    {
      "cell_type": "markdown",
      "source": [
        "One hot Encoding"
      ],
      "metadata": {
        "id": "BFEvmUBPCVEB"
      }
    },
    {
      "cell_type": "code",
      "source": [
        "from sklearn.preprocessing import OneHotEncoder\n",
        "oht=OneHotEncoder()\n"
      ],
      "metadata": {
        "id": "Jzio7BTBIrvS"
      },
      "execution_count": null,
      "outputs": []
    },
    {
      "cell_type": "code",
      "source": [
        "part=oht.fit_transform(data['region'].values.reshape(-1,1)).toarray()\n"
      ],
      "metadata": {
        "id": "MYhwxN2lI6C6"
      },
      "execution_count": null,
      "outputs": []
    },
    {
      "cell_type": "code",
      "source": [
        "values=dict(data['region'].value_counts())\n",
        "\n",
        "for e,(val,_) in enumerate(values.items()):\n",
        "    data[\"region_\"+str(val)]=part[:,e]\n",
        "    data1=data.drop([\"region\"],axis=1)\n",
        "    data1.head()"
      ],
      "metadata": {
        "id": "iAdSuAm1KJZs"
      },
      "execution_count": null,
      "outputs": []
    },
    {
      "cell_type": "code",
      "source": [
        "data1.head()"
      ],
      "metadata": {
        "id": "YZTg9HO3NZil"
      },
      "execution_count": null,
      "outputs": []
    },
    {
      "cell_type": "code",
      "source": [
        "values=dict(data['region'].value_counts())\n",
        "values.items()"
      ],
      "metadata": {
        "id": "2ghhr0gpMZK1"
      },
      "execution_count": null,
      "outputs": []
    },
    {
      "cell_type": "code",
      "source": [
        "data1.head()"
      ],
      "metadata": {
        "id": "2g690y3FK6f1"
      },
      "execution_count": null,
      "outputs": []
    },
    {
      "cell_type": "markdown",
      "source": [
        "Handle skewness in predictive column"
      ],
      "metadata": {
        "id": "x7mLKl40OE-1"
      }
    },
    {
      "cell_type": "code",
      "source": [
        "original_y=data[\"expenses\"].values.copy()"
      ],
      "metadata": {
        "id": "ziGxRlC5NyBL"
      },
      "execution_count": null,
      "outputs": []
    },
    {
      "cell_type": "code",
      "source": [
        "original_y"
      ],
      "metadata": {
        "id": "T044qQ56MHpS"
      },
      "execution_count": null,
      "outputs": []
    },
    {
      "cell_type": "code",
      "source": [
        "print(\"skewness in column : Expenses\" ,data[\"expenses\"].skew())\n",
        "plt.hist(data[\"expenses\"])\n",
        "plt.show()"
      ],
      "metadata": {
        "id": "aidr2hz1O1kW"
      },
      "execution_count": null,
      "outputs": []
    },
    {
      "cell_type": "code",
      "source": [
        "col_log=np.log(data[\"expenses\"])\n",
        "print(\"skewness in column : log Expenses \",col_log.skew())\n",
        "\n",
        "plt.hist(col_log)\n",
        "plt.show()"
      ],
      "metadata": {
        "id": "C5CxpbAgPkY1"
      },
      "execution_count": null,
      "outputs": []
    },
    {
      "cell_type": "code",
      "source": [
        "col_sqrt=np.sqrt(data[\"expenses\"])\n",
        "plt.hist(col_sqrt)\n",
        "plt.show()"
      ],
      "metadata": {
        "id": "xVooY-30QX7B"
      },
      "execution_count": null,
      "outputs": []
    },
    {
      "cell_type": "code",
      "source": [
        "from scipy import stats\n",
        "\n",
        "col_cox,lam=stats.boxcox(data[\"expenses\"])[0:2]\n",
        "#print(\"skewness in column : sqrt Expenses\",pd.series(col_cox).skew())\n",
        "\n",
        "plt.hist(col_cox)\n",
        "plt.show()"
      ],
      "metadata": {
        "id": "pOwCVs_WMWbd"
      },
      "execution_count": null,
      "outputs": []
    },
    {
      "cell_type": "code",
      "source": [
        "data[\"expenses\"]=col_cox"
      ],
      "metadata": {
        "id": "rTUEYRZ1PGWv"
      },
      "execution_count": null,
      "outputs": []
    },
    {
      "cell_type": "code",
      "source": [
        "data.columns"
      ],
      "metadata": {
        "id": "0wmOsoPUS1J-"
      },
      "execution_count": null,
      "outputs": []
    },
    {
      "cell_type": "markdown",
      "source": [
        "Make Feaures and Targets"
      ],
      "metadata": {
        "id": "8R8uABLcPiDj"
      }
    },
    {
      "cell_type": "code",
      "source": [
        "remaining_columns=list(data.columns)\n",
        "remaining_columns.remove(\"expenses\")"
      ],
      "metadata": {
        "id": "u4VNWmN5PpWv"
      },
      "execution_count": null,
      "outputs": []
    },
    {
      "cell_type": "code",
      "source": [
        "remaining_columns"
      ],
      "metadata": {
        "id": "pLmXFfbSS_Kj"
      },
      "execution_count": null,
      "outputs": []
    },
    {
      "cell_type": "code",
      "source": [
        "x=data[remaining_columns].values\n",
        "y=data['expenses'].values"
      ],
      "metadata": {
        "id": "Vd3svzQ1QIQD"
      },
      "execution_count": null,
      "outputs": []
    },
    {
      "cell_type": "code",
      "source": [
        "x"
      ],
      "metadata": {
        "id": "-Wg8en76oPz8"
      },
      "execution_count": null,
      "outputs": []
    },
    {
      "cell_type": "code",
      "source": [
        "!pip install standardscaler\n",
        "#from sklearn.preprocessing import standardscaler\n",
        "\n"
      ],
      "metadata": {
        "id": "qFhFSOF2RkLp"
      },
      "execution_count": null,
      "outputs": []
    },
    {
      "cell_type": "code",
      "source": [
        "from sklearn.preprocessing import StandardScaler\n",
        "\n",
        "scaler=StandardScaler()\n",
        "x=scaler.fit_transform(x)\n"
      ],
      "metadata": {
        "id": "qabwFHIjj6ms"
      },
      "execution_count": null,
      "outputs": []
    },
    {
      "cell_type": "code",
      "source": [
        "plt.ylim(-1,1)\n",
        "\n",
        "means=[]\n",
        "for i in range(x.shape[1]):\n",
        "     means.append(np.mean(x[:,i]))\n",
        "plt.plot(means,scaley=False)    "
      ],
      "metadata": {
        "id": "RKA-E1wXlTLJ"
      },
      "execution_count": null,
      "outputs": []
    },
    {
      "cell_type": "code",
      "source": [
        "plt.ylim(0,2)\n",
        "\n",
        "vars=[]\n",
        "for i in range(x.shape[1]):\n",
        "     vars.append(np.var(x[:,i]))\n",
        "plt.plot(vars)     "
      ],
      "metadata": {
        "id": "4vrV-wvumqFH"
      },
      "execution_count": null,
      "outputs": []
    },
    {
      "cell_type": "code",
      "source": [
        "from sklearn.linear_model import LinearRegression\n",
        "from sklearn.decomposition import PCA\n",
        "\n",
        "pca=PCA(n_components=7)\n",
        "x=pca.fit_transform(x)\n",
        "\n"
      ],
      "metadata": {
        "id": "ccsqGQwxnOFZ"
      },
      "execution_count": null,
      "outputs": []
    },
    {
      "cell_type": "code",
      "source": [
        "pca.explained_variance_ratio_.cumsum()"
      ],
      "metadata": {
        "id": "JevPvYY-oklH"
      },
      "execution_count": null,
      "outputs": []
    },
    {
      "cell_type": "code",
      "source": [
        "from sklearn.model_selection import KFold\n",
        "\n",
        "k_fold=KFold(n_splits=5)\n",
        "\n",
        "test_scores=[]\n",
        "for train_idx,test_idx in k_fold.split(x):\n",
        "    xtrain=x[train_idx]\n",
        "    ytrain=y[train_idx]\n",
        "\n",
        "    xtest=x[test_idx]\n",
        "    ytrain=y[test_idx]\n",
        "\n",
        "    model=LinearRegression()\n",
        "    #model.fit(xtrain,ytrain)\n",
        "    #test_scores.append(model.score(xtest,ytest))"
      ],
      "metadata": {
        "id": "jNhPw_3powVt"
      },
      "execution_count": null,
      "outputs": []
    },
    {
      "cell_type": "code",
      "source": [
        "model.fit(xtrain, ytrain)"
      ],
      "metadata": {
        "id": "8V6z37QNrVDn"
      },
      "execution_count": null,
      "outputs": []
    },
    {
      "cell_type": "code",
      "source": [
        "means"
      ],
      "metadata": {
        "id": "WOSb-2V1mDf7"
      },
      "execution_count": null,
      "outputs": []
    },
    {
      "cell_type": "code",
      "source": [],
      "metadata": {
        "id": "2dodwd4fmRdA"
      },
      "execution_count": null,
      "outputs": []
    },
    {
      "cell_type": "markdown",
      "source": [
        "Regularization"
      ],
      "metadata": {
        "id": "yTckcX4TcnWs"
      }
    },
    {
      "cell_type": "code",
      "source": [
        "x=data[remaining_columns].values\n",
        "y=data['expenses'].values"
      ],
      "metadata": {
        "id": "QbWYdKO-cqHD"
      },
      "execution_count": null,
      "outputs": []
    },
    {
      "cell_type": "code",
      "source": [
        "from sklearn.model_selection import train_test_split\n",
        "# xtrain ,xtest,ytrain,ytest = train_test_split(x,y,test_size=0.2,random_state=4)"
      ],
      "metadata": {
        "id": "v4vPqvmCcqSD"
      },
      "execution_count": null,
      "outputs": []
    },
    {
      "cell_type": "code",
      "source": [
        "Xtrain,Xtest,Ytrain,Ytest=train_test_split(x,y,test_size=0.2,random_state=4)"
      ],
      "metadata": {
        "id": "hL4tx0UUeKSL"
      },
      "execution_count": null,
      "outputs": []
    },
    {
      "cell_type": "code",
      "source": [
        "from sklearn.linear_model import Ridge,Lasso,ElasticNet,LinearRegression"
      ],
      "metadata": {
        "id": "avi1Lir3epT5"
      },
      "execution_count": null,
      "outputs": []
    },
    {
      "cell_type": "code",
      "source": [
        "model=LinearRegression()\n",
        "model.fit(Xtrain,Ytrain)\n",
        "print(\"training accuracy:\",model.score(Xtrain,Ytrain))\n",
        "print(\"testing accuracy:\",model.score(Xtest,Ytest))"
      ],
      "metadata": {
        "id": "x86ZoH_Ye_q6"
      },
      "execution_count": null,
      "outputs": []
    },
    {
      "cell_type": "code",
      "source": [
        "model=Lasso()\n",
        "model.fit(Xtrain,Ytrain)\n",
        "print(\"Training Accuracy:\",model.score(Xtrain,Ytrain))\n",
        "print(\"testing accuracy:\",model.score(Xtest,Ytest))"
      ],
      "metadata": {
        "id": "3l3ysosWfjAU"
      },
      "execution_count": null,
      "outputs": []
    },
    {
      "cell_type": "code",
      "source": [
        "model=ElasticNet()\n",
        "model.fit(Xtrain,Ytrain)\n",
        "print(\"Training Accuracy:\",model.score(Xtrain,Ytrain))\n",
        "print(\"Testin Accuracy:\",model.score(Xtest,Ytest))"
      ],
      "metadata": {
        "id": "4LGMVZg4gsIl"
      },
      "execution_count": null,
      "outputs": []
    },
    {
      "cell_type": "markdown",
      "source": [
        "Changing Parameter of Lasso and Elastic"
      ],
      "metadata": {
        "id": "5fPO8RVIhfhT"
      }
    },
    {
      "cell_type": "code",
      "source": [
        "model=Lasso(alpha=0.01)\n",
        "model.fit(Xtrain,Ytrain)\n",
        "print(\"Training Accuracy:\",model.score(Xtrain,Ytrain))\n",
        "print(\"Testing Accuracy:\",model.score(Xtest,Ytest))"
      ],
      "metadata": {
        "id": "aTxJNddHha-b"
      },
      "execution_count": null,
      "outputs": []
    },
    {
      "cell_type": "code",
      "source": [
        "model=ElasticNet(alpha=0.01+0.01,l1_ratio=0.01/(0.01+0.01))\n",
        "model.fit(Xtrain,Ytrain)"
      ],
      "metadata": {
        "id": "OFfyYV-5jwl_"
      },
      "execution_count": null,
      "outputs": []
    },
    {
      "cell_type": "code",
      "source": [
        "print(\"Training Accuracy:\",model.score(Xtrain,Ytrain))\n",
        "print(\"Testing Accuracy:\",model.score(Xtest,Ytest))"
      ],
      "metadata": {
        "id": "kScWtnMQkTGq"
      },
      "execution_count": null,
      "outputs": []
    },
    {
      "cell_type": "code",
      "source": [],
      "metadata": {
        "id": "GlMFhGBtkz8-"
      },
      "execution_count": null,
      "outputs": []
    }
  ]
}