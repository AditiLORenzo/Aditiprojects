{
  "nbformat": 4,
  "nbformat_minor": 0,
  "metadata": {
    "colab": {
      "private_outputs": true,
      "provenance": [],
      "authorship_tag": "ABX9TyPOI5WUTX/Df/6h5piHutEn",
      "include_colab_link": true
    },
    "kernelspec": {
      "name": "python3",
      "display_name": "Python 3"
    },
    "language_info": {
      "name": "python"
    }
  },
  "cells": [
    {
      "cell_type": "markdown",
      "metadata": {
        "id": "view-in-github",
        "colab_type": "text"
      },
      "source": [
        "<a href=\"https://colab.research.google.com/github/AditiLORenzo/Aditiprojects/blob/main/clustering_Project.ipynb\" target=\"_parent\"><img src=\"https://colab.research.google.com/assets/colab-badge.svg\" alt=\"Open In Colab\"/></a>"
      ]
    },
    {
      "cell_type": "code",
      "execution_count": null,
      "metadata": {
        "id": "_wj5HL2d6iF2"
      },
      "outputs": [],
      "source": [
        "import numpy as np\n",
        "import pandas as pd\n",
        "import matplotlib.pyplot as plt\n",
        "import seaborn as sns\n",
        "plt.style.use('fivethirtyeight')\n",
        "#import dabl"
      ]
    },
    {
      "cell_type": "code",
      "source": [
        "!pip install dabl"
      ],
      "metadata": {
        "id": "9cHlVakT7p8w"
      },
      "execution_count": null,
      "outputs": []
    },
    {
      "cell_type": "code",
      "source": [
        "import dabl"
      ],
      "metadata": {
        "id": "00mxCtJw759s"
      },
      "execution_count": null,
      "outputs": []
    },
    {
      "cell_type": "markdown",
      "source": [
        "Reading the data set"
      ],
      "metadata": {
        "id": "e1agE7rk8Pvy"
      }
    },
    {
      "cell_type": "code",
      "source": [
        "dt=pd.read_csv('/content/Mall_Customers.csv')"
      ],
      "metadata": {
        "id": "jA4ESg-f8LZH"
      },
      "execution_count": null,
      "outputs": []
    },
    {
      "cell_type": "markdown",
      "source": [
        "Examining the data"
      ],
      "metadata": {
        "id": "e2kF5_zj9Fcj"
      }
    },
    {
      "cell_type": "code",
      "source": [
        "dt.head()"
      ],
      "metadata": {
        "id": "VkLt4sjg9ICS"
      },
      "execution_count": null,
      "outputs": []
    },
    {
      "cell_type": "markdown",
      "source": [
        "Descriptive statistics"
      ],
      "metadata": {
        "id": "KFRaE0Ch9Rac"
      }
    },
    {
      "cell_type": "code",
      "source": [
        "dt.describe()"
      ],
      "metadata": {
        "id": "B98vh-lX9Qgy"
      },
      "execution_count": null,
      "outputs": []
    },
    {
      "cell_type": "code",
      "source": [
        "dt.describe(include='object')"
      ],
      "metadata": {
        "id": "eOd9FiMU9oUW"
      },
      "execution_count": null,
      "outputs": []
    },
    {
      "cell_type": "code",
      "source": [
        "dt.isnull().any().any()"
      ],
      "metadata": {
        "id": "mOk6PZjz9wU2"
      },
      "execution_count": null,
      "outputs": []
    },
    {
      "cell_type": "code",
      "source": [
        "#we want to perform cluster on the similar behaviour of people\n",
        "#spending score and annual income\n",
        "\n",
        "#lets select the spending score and annual income column from the data\n",
        "#creating the array of these two data\n",
        "x=dt.loc[:,['Spending Score (1-100)','Annual Income (k$)']].values\n",
        "print(x.shape)"
      ],
      "metadata": {
        "id": "hL-EfdVW-MMC"
      },
      "execution_count": null,
      "outputs": []
    },
    {
      "cell_type": "code",
      "source": [
        "x"
      ],
      "metadata": {
        "id": "Vw1zXXWS_euS"
      },
      "execution_count": null,
      "outputs": []
    },
    {
      "cell_type": "code",
      "source": [
        "x=pd.DataFrame(x)"
      ],
      "metadata": {
        "id": "sif6cOO__yOM"
      },
      "execution_count": null,
      "outputs": []
    },
    {
      "cell_type": "code",
      "source": [
        "x.head()"
      ],
      "metadata": {
        "id": "TfIoC814LdJs"
      },
      "execution_count": null,
      "outputs": []
    },
    {
      "cell_type": "markdown",
      "source": [
        "##K-Means Algorithm\n",
        "Elbow method to find number of optimal clusters"
      ],
      "metadata": {
        "id": "8xO3Sl8kALob"
      }
    },
    {
      "cell_type": "code",
      "source": [
        "from sklearn.cluster import KMeans\n",
        "wcss=[]\n",
        "for i in range(1,11):\n",
        "    km=KMeans(n_clusters=i,init='k-means++',max_iter=300,n_init=10,random_state=0)\n",
        "    km.fit(x)\n",
        "    wcss.append(km.inertia_)\n"
      ],
      "metadata": {
        "id": "7c8_H3w4APA0"
      },
      "execution_count": null,
      "outputs": []
    },
    {
      "cell_type": "code",
      "source": [
        "#Just import matplotlib library\n",
        "!pip install matplotlib==3.1.3"
      ],
      "metadata": {
        "id": "34o8falbxxez"
      },
      "execution_count": null,
      "outputs": []
    },
    {
      "cell_type": "code",
      "source": [
        "import matplotlib.pyplot as plt\n"
      ],
      "metadata": {
        "id": "2CBJFM2OyGJR"
      },
      "execution_count": null,
      "outputs": []
    },
    {
      "cell_type": "code",
      "source": [
        "plt.plot(range(1,11),wcss)\n",
        "plt.title(\"The elbow method\",fontsize=20)\n",
        "plt.xlabel(\"No.of clusters\")\n",
        "plt.ylabel(\"WCSS\")\n",
        "plt.show()"
      ],
      "metadata": {
        "id": "bDaGGQBYwxBH"
      },
      "execution_count": null,
      "outputs": []
    },
    {
      "cell_type": "markdown",
      "source": [
        "##Visualizing the clustering"
      ],
      "metadata": {
        "id": "nB51ypqdyaRt"
      }
    },
    {
      "cell_type": "code",
      "source": [
        "x1=np.array(x)\n"
      ],
      "metadata": {
        "id": "yS0niotpQe7v"
      },
      "execution_count": null,
      "outputs": []
    },
    {
      "cell_type": "code",
      "source": [
        "plt.style.use('fivethirtyeight')\n",
        "km=KMeans(n_clusters=5,init='k-means++',max_iter=300,n_init=10,random_state=0)\n",
        "y_means=km.fit_predict(x)"
      ],
      "metadata": {
        "id": "oGzdKQuPQ9QK"
      },
      "execution_count": null,
      "outputs": []
    },
    {
      "cell_type": "code",
      "source": [
        "plt.style.use('fivethirtyeight')\n",
        "km=KMeans(n_clusters=5,init='k-means++',max_iter=300,n_init=10,random_state=0)\n",
        "y_means=km.fit_predict(x1)\n",
        "clusters = km.cluster_centers_\n",
        "\n",
        "\n",
        "plt.scatter(x1[y_means==0,0],x1[y_means==0,1],s=100,c='pink',label='miser')\n",
        "plt.scatter(x1[y_means==1,0],x1[y_means==1,1],s=100,c='yellow',label='general')\n",
        "plt.scatter(x1[y_means==2,0],x1[y_means==2,1],s=100,c='cyan',label='target')\n",
        "plt.scatter(x1[y_means==3,0],x1[y_means==3,1],s=100,c='magenta',label='spendthrift')\n",
        "plt.scatter(x1[y_means==4,0],x1[y_means==4,1],s=100,c='orange',label='careful')\n",
        "plt.scatter(clusters[:,0],clusters[:,1],s=50,c='blue',label='centroid')\n",
        "\n",
        "plt.style.use('fivethirtyeight')\n",
        "plt.title(\"K-means clustering between Annual income and spending score\",fontsize=20)\n",
        "plt.xlabel(\"Annual Income\")\n",
        "plt.ylabel(\"Spending Score\")\n",
        "plt.legend()\n",
        "plt.grid()\n",
        "plt.show()"
      ],
      "metadata": {
        "id": "CeXTchOayi0q"
      },
      "execution_count": null,
      "outputs": []
    },
    {
      "cell_type": "markdown",
      "source": [
        "##clustering between age and spending score"
      ],
      "metadata": {
        "id": "Noh1lOHgaYXf"
      }
    },
    {
      "cell_type": "code",
      "source": [
        "dt.head()"
      ],
      "metadata": {
        "id": "k303pNn6c-p6"
      },
      "execution_count": null,
      "outputs": []
    },
    {
      "cell_type": "code",
      "source": [
        "z=dt.loc[:,['Age','Spending Score (1-100)']].values"
      ],
      "metadata": {
        "id": "A3FNgoFjdFjY"
      },
      "execution_count": null,
      "outputs": []
    },
    {
      "cell_type": "code",
      "source": [
        "z=pd.DataFrame(z)"
      ],
      "metadata": {
        "id": "cJfJPzjVfDpj"
      },
      "execution_count": null,
      "outputs": []
    },
    {
      "cell_type": "code",
      "source": [
        "z.head()"
      ],
      "metadata": {
        "id": "-f0C3tHXfJrO"
      },
      "execution_count": null,
      "outputs": []
    },
    {
      "cell_type": "code",
      "source": [
        "from sklearn.cluster import KMeans\n",
        "WCSS=[]\n",
        "for i in range(1,11):\n",
        "    kmeans=KMeans(n_clusters=i,init='k-means++',max_iter=300,n_init=10,random_state=0)\n",
        "    kmeans.fit(z)\n",
        "    WCSS.append(kmeans.inertia_)\n",
        "\n",
        "plt.rcParams['figure.figsize']=(15,5)\n",
        "plt.plot(range(1,11),wcss)\n",
        "plt.title('K-means clustering(elbow)',fontsize=20)\n",
        "plt.xlabel(\"Age\")\n",
        "plt.ylabel(\"Count\")\n",
        "plt.grid()\n",
        "plt.show()"
      ],
      "metadata": {
        "id": "jDGFKRK9acds"
      },
      "execution_count": null,
      "outputs": []
    },
    {
      "cell_type": "code",
      "source": [
        "z=np.array(z)\n",
        "km=KMeans(n_clusters=4,init='k-means++',max_iter=300,n_init=10,random_state=0)\n",
        "ymeans=km.fit_predict(z)\n",
        "clusters=km.cluster_centers_\n",
        "\n",
        "\n"
      ],
      "metadata": {
        "id": "VzA7uMdFaN09"
      },
      "execution_count": null,
      "outputs": []
    },
    {
      "cell_type": "code",
      "source": [
        "plt.rcParams['figure.figsize']=(10,10)\n",
        "plt.title(\"cluster Age\",fontsize=30)\n",
        "\n",
        "plt.scatter(z[ymeans==0,0],z[ymeans==0,1],s=100,c='green',label='usual customer')\n",
        "plt.scatter(z[ymeans==1,0],z[ymeans==1,1],s=100,c='red',label='Priority Customer')\n",
        "plt.scatter(z[ymeans==2,0],z[ymeans==2,1],s=100,c='orange',label='Target customer(young)')\n",
        "plt.scatter(z[ymeans==3,0],z[ymeans==3,1],s=100,c='pink',label='TargetCustomers(old)')\n",
        "plt.scatter(km.cluster_centers_[:,0],km.cluster_centers_[:,1],s=50,c='Blue',label=\"centroid\")\n",
        "\n",
        "plt.style.use('fivethirtyeight')\n",
        "plt.xlabel('Age')\n",
        "plt.ylabel('spending scores')\n",
        "plt.grid()\n",
        "plt.legend()\n",
        "plt.show()"
      ],
      "metadata": {
        "id": "lMKBLWQoiZHD"
      },
      "execution_count": null,
      "outputs": []
    },
    {
      "cell_type": "code",
      "source": [],
      "metadata": {
        "id": "Kvza7mFkOz9u"
      },
      "execution_count": null,
      "outputs": []
    }
  ]
}