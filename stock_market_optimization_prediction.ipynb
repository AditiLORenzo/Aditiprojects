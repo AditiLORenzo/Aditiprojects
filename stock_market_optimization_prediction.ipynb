{
  "nbformat": 4,
  "nbformat_minor": 0,
  "metadata": {
    "colab": {
      "private_outputs": true,
      "provenance": [],
      "authorship_tag": "ABX9TyMkZyIRJtYbA+V0WaWyohzc",
      "include_colab_link": true
    },
    "kernelspec": {
      "name": "python3",
      "display_name": "Python 3"
    },
    "language_info": {
      "name": "python"
    }
  },
  "cells": [
    {
      "cell_type": "markdown",
      "metadata": {
        "id": "view-in-github",
        "colab_type": "text"
      },
      "source": [
        "<a href=\"https://colab.research.google.com/github/AditiLORenzo/Aditiprojects/blob/main/stock_market_optimization_prediction.ipynb\" target=\"_parent\"><img src=\"https://colab.research.google.com/assets/colab-badge.svg\" alt=\"Open In Colab\"/></a>"
      ]
    },
    {
      "cell_type": "markdown",
      "source": [
        "Importing library"
      ],
      "metadata": {
        "id": "aavHYNfgfAZt"
      }
    },
    {
      "cell_type": "code",
      "source": [
        "import numpy as np\n",
        "import pandas as pd\n",
        "import matplotlib.pyplot as plt\n",
        "import seaborn as sns\n",
        "import sklearn\n",
        "import imblearn"
      ],
      "metadata": {
        "id": "JF_7RP59fvIU"
      },
      "execution_count": null,
      "outputs": []
    },
    {
      "cell_type": "markdown",
      "source": [
        "Reading the data"
      ],
      "metadata": {
        "id": "A-olT1TTgm0f"
      }
    },
    {
      "cell_type": "code",
      "source": [
        "benchmarkdata=pd.read_csv(\"/content/benchmark_data.csv\",parse_dates=True,index_col=['Date'])\n",
        "#stockdata=pd.read_excel(\"/content/stock_data.csv\",parse_date=True)"
      ],
      "metadata": {
        "id": "CCHdsLl7gsJl"
      },
      "execution_count": null,
      "outputs": []
    },
    {
      "cell_type": "code",
      "source": [
        "stockdata=pd.read_csv(\"/content/stock_data.csv\",parse_dates=True,index_col=['Date'])"
      ],
      "metadata": {
        "id": "_f_0V9CjjGlH"
      },
      "execution_count": null,
      "outputs": []
    },
    {
      "cell_type": "code",
      "source": [
        "print(\"shape of benchmarkdata\",benchmarkdata.shape)\n",
        "print(\"shape of stockdata\",stockdata.shape)"
      ],
      "metadata": {
        "id": "5Z9TXCRbjxCu"
      },
      "execution_count": null,
      "outputs": []
    },
    {
      "cell_type": "code",
      "source": [
        "benchmarkdata=benchmarkdata.dropna()\n",
        "stockdata=stockdata.dropna()"
      ],
      "metadata": {
        "id": "W7RLCgzQkLSp"
      },
      "execution_count": null,
      "outputs": []
    },
    {
      "cell_type": "markdown",
      "source": [
        "Summarizing the Data"
      ],
      "metadata": {
        "id": "QmOMX8GOzo5E"
      }
    },
    {
      "cell_type": "code",
      "source": [
        "print(benchmarkdata.head(1))"
      ],
      "metadata": {
        "id": "RRUnSwdizy1S"
      },
      "execution_count": null,
      "outputs": []
    },
    {
      "cell_type": "code",
      "source": [
        "print(benchmarkdata.tail(1))"
      ],
      "metadata": {
        "id": "XxY5rOV_0-W3"
      },
      "execution_count": null,
      "outputs": []
    },
    {
      "cell_type": "code",
      "source": [
        "print(stockdata.tail(1))"
      ],
      "metadata": {
        "id": "f3whswn01FXI"
      },
      "execution_count": null,
      "outputs": []
    },
    {
      "cell_type": "code",
      "source": [
        "print(stockdata.head(1))"
      ],
      "metadata": {
        "id": "9o_2Xl2a1MhA"
      },
      "execution_count": null,
      "outputs": []
    },
    {
      "cell_type": "code",
      "source": [
        "stockdata.describe()"
      ],
      "metadata": {
        "id": "CE5phAIo4QfV"
      },
      "execution_count": null,
      "outputs": []
    },
    {
      "cell_type": "code",
      "source": [
        "benchmarkdata.describe()"
      ],
      "metadata": {
        "id": "nnyBqSRW4ZQp"
      },
      "execution_count": null,
      "outputs": []
    },
    {
      "cell_type": "markdown",
      "source": [
        "VISUALIZING THE DATA"
      ],
      "metadata": {
        "id": "EKb6beL04gJJ"
      }
    },
    {
      "cell_type": "code",
      "source": [
        "plt.rcParams['figure.figsize']=(8,8)\n",
        "stockdata.plot(subplots=True,title='Stock Data')\n",
        "benchmarkdata.plot(title='s&p 500',color='black')\n",
        "plt.show()"
      ],
      "metadata": {
        "id": "HnxOKUpv4lZC"
      },
      "execution_count": null,
      "outputs": []
    },
    {
      "cell_type": "markdown",
      "source": [
        "Sharpe Ratio:Starting with daily stock routine"
      ],
      "metadata": {
        "id": "bkp1JIOa7Ckw"
      }
    },
    {
      "cell_type": "code",
      "source": [
        "#calculating daily stockdata return using pct_change() function\n",
        "stock_return=stockdata.pct_change()\n",
        "stock_return.plot()\n",
        "plt.show()"
      ],
      "metadata": {
        "id": "ishlwHor7X4d"
      },
      "execution_count": null,
      "outputs": []
    },
    {
      "cell_type": "code",
      "source": [
        "benchmarkdata.values"
      ],
      "metadata": {
        "id": "zYF1CJn09Ivp"
      },
      "execution_count": null,
      "outputs": []
    },
    {
      "cell_type": "code",
      "source": [
        "benchmarkdata"
      ],
      "metadata": {
        "id": "N1eGvfuB9Ynr"
      },
      "execution_count": null,
      "outputs": []
    },
    {
      "cell_type": "code",
      "source": [
        "#calculating daily benchmark data of \n",
        "sp_returns=benchmarkdata['S&P 500'].pct_change()\n",
        "sp_returns.plot(title='sp_Returns',color='red')\n",
        "plt.show()"
      ],
      "metadata": {
        "id": "brKhoYjJ8-cT"
      },
      "execution_count": null,
      "outputs": []
    },
    {
      "cell_type": "code",
      "source": [
        "sp_returns.describe()"
      ],
      "metadata": {
        "id": "A0eqh3PY_gOu"
      },
      "execution_count": null,
      "outputs": []
    },
    {
      "cell_type": "markdown",
      "source": [
        "Calculating Excess return"
      ],
      "metadata": {
        "id": "deEsYI1h_-fD"
      }
    },
    {
      "cell_type": "code",
      "source": [
        "#calculate the difference of daily return\n",
        "excess_return=stock_return.sub(sp_returns,axis=0)\n",
        "excess_return.plot()\n",
        "excess_return.describe()"
      ],
      "metadata": {
        "id": "Qy4Myw6iAD-e"
      },
      "execution_count": null,
      "outputs": []
    },
    {
      "cell_type": "markdown",
      "source": [
        "calculating the average of daily return Stocks VS S&P 500"
      ],
      "metadata": {
        "id": "G7rbl3jIUQV6"
      }
    },
    {
      "cell_type": "code",
      "source": [
        "excess_mean=excess_return.mean()\n",
        "plt.rcParams['figure.figsize']=(8,4)\n",
        "excess_mean.plot.bar(title='Mean of return difference')\n",
        "plt.show()"
      ],
      "metadata": {
        "id": "03HZzHEuTsqZ"
      },
      "execution_count": null,
      "outputs": []
    },
    {
      "cell_type": "markdown",
      "source": [
        "Calculating the standard deviation"
      ],
      "metadata": {
        "id": "xGK8TdqWVfLu"
      }
    },
    {
      "cell_type": "code",
      "source": [
        "std_excess_return=excess_return.std()\n",
        "std_excess_return.plot.bar(title='standard deviation of excess return')\n",
        "plt.show()"
      ],
      "metadata": {
        "id": "B_gGE8mQVkWb"
      },
      "execution_count": null,
      "outputs": []
    },
    {
      "cell_type": "markdown",
      "source": [
        "Putting it all toghether"
      ],
      "metadata": {
        "id": "hIDCYA_yclVV"
      }
    },
    {
      "cell_type": "code",
      "source": [
        "daily_sharpe_ratio=excess_mean.div(std_excess_return)\n",
        "annual_factor=np.sqrt(252)\n",
        "annual_sharpe_ratio=daily_sharpe_ratio.mul(annual_factor)\n",
        "annual_sharpe_ratio.plot.bar(title='Annualized sharpe ratio:Stock vs s&p 500')\n",
        "plt.show()"
      ],
      "metadata": {
        "id": "JMS9hetVc8F5"
      },
      "execution_count": null,
      "outputs": []
    },
    {
      "cell_type": "markdown",
      "source": [
        "#Conclusion is we should buy Amazon stalk instead of Facebook"
      ],
      "metadata": {
        "id": "uuyfvQBWi2LY"
      }
    }
  ]
}